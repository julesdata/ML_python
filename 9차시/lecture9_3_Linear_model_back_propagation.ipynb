{
 "cells": [
  {
   "cell_type": "markdown",
   "metadata": {},
   "source": [
    "https://docs.google.com/presentation/d/1X0POtQcf0E8ffCSL-f01tw5JBSP4Tsusn4pHr7eLajk/edit?usp=sharing"
   ]
  },
  {
   "cell_type": "code",
   "execution_count": 1,
   "metadata": {
    "id": "1C9XjPti86_9"
   },
   "outputs": [],
   "source": [
    "import torch"
   ]
  },
  {
   "cell_type": "markdown",
   "metadata": {
    "id": "4fVKSwoEFg9W"
   },
   "source": [
    "# Import Data"
   ]
  },
  {
   "cell_type": "code",
   "execution_count": 2,
   "metadata": {
    "id": "OCQ-1v0x88aT"
   },
   "outputs": [],
   "source": [
    "x_data = [1.0, 2.0, 3.0]\n",
    "y_data = [2.0, 4.0, 6.0]"
   ]
  },
  {
   "cell_type": "markdown",
   "metadata": {
    "id": "R-VybpEc99-3"
   },
   "source": [
    "# Model Design\n",
    "$ \\hat{y} = x * w $"
   ]
  },
  {
   "cell_type": "code",
   "execution_count": 3,
   "metadata": {
    "id": "cfdDAz5IFl_h"
   },
   "outputs": [],
   "source": [
    "# autograd: 자동미분\n",
    "# # 그 tensor에서 이뤄진 모든 연산들을 추적(track)하기 시작합니다. \n",
    "# 계산이 완료된 후 .backward() 를 호출하여 모든 변화도(gradient)를 자동으로 계산할 수 있습니다. \n",
    "# 이 Tensor의 변화도는 .grad 속성에 누적됩니다\n",
    "# reference. https://tutorials.pytorch.kr/beginner/blitz/autograd_tutorial.html\n",
    "\n",
    "w = torch.tensor([1.0], requires_grad=True)\n",
    "\n",
    "# our model for the forward pass\n",
    "def forward(x):\n",
    "    return x * w"
   ]
  },
  {
   "cell_type": "markdown",
   "metadata": {
    "id": "T4kuGMJ9FoqU"
   },
   "source": [
    "# Define Loss Function"
   ]
  },
  {
   "cell_type": "code",
   "execution_count": 4,
   "metadata": {
    "id": "TBU8qsal9KOj"
   },
   "outputs": [],
   "source": [
    "# Loss function(Cost function): 실제 값과 예측 값의 차이를 표현하는 지표\n",
    "\n",
    "def loss(y_pred, y_val):\n",
    "    return (y_pred - y_val) ** 2"
   ]
  },
  {
   "cell_type": "markdown",
   "metadata": {
    "id": "rLwCmsKtQdxk"
   },
   "source": [
    "# Define gradient for Gradient Descent algorithm"
   ]
  },
  {
   "cell_type": "code",
   "execution_count": 5,
   "metadata": {
    "id": "AMdJY-SWQcDD"
   },
   "outputs": [],
   "source": [
    "# compute gradient\n",
    "def gradient(x, y):  # d_loss/d_w\n",
    "    return 2 * x * (x * w - y)"
   ]
  },
  {
   "cell_type": "markdown",
   "metadata": {
    "id": "SJKHYPvLGHTO"
   },
   "source": [
    "# Train Model"
   ]
  },
  {
   "cell_type": "code",
   "execution_count": 6,
   "metadata": {
    "colab": {
     "base_uri": "https://localhost:8080/"
    },
    "executionInfo": {
     "elapsed": 1209,
     "status": "ok",
     "timestamp": 1616334667654,
     "user": {
      "displayName": "GyuSeung Kyeong",
      "photoUrl": "https://lh3.googleusercontent.com/a-/AOh14GjVl8iR-wRy9h8XpzjUIvCxKy_NYqpKS2XMhJItnCY=s64",
      "userId": "04899398769023255489"
     },
     "user_tz": -540
    },
    "id": "6V54jbgOAwkH",
    "outputId": "1bfe5856-26f7-4d9c-f61a-ce583b2228e0"
   },
   "outputs": [
    {
     "name": "stdout",
     "output_type": "stream",
     "text": [
      "Prediction (before training) 4 4.0\n",
      "\tgrad:  1.0 2.0 -2.0\n",
      "\tgrad:  2.0 4.0 -7.840000152587891\n",
      "\tgrad:  3.0 6.0 -16.228801727294922\n",
      "Epoch: 0 | Loss: 7.315943717956543\n",
      "\tgrad:  1.0 2.0 -1.478623867034912\n",
      "\tgrad:  2.0 4.0 -5.796205520629883\n",
      "\tgrad:  3.0 6.0 -11.998146057128906\n",
      "Epoch: 1 | Loss: 3.9987640380859375\n",
      "\tgrad:  1.0 2.0 -1.0931644439697266\n",
      "\tgrad:  2.0 4.0 -4.285204887390137\n",
      "\tgrad:  3.0 6.0 -8.870372772216797\n",
      "Epoch: 2 | Loss: 2.1856532096862793\n",
      "\tgrad:  1.0 2.0 -0.8081896305084229\n",
      "\tgrad:  2.0 4.0 -3.1681032180786133\n",
      "\tgrad:  3.0 6.0 -6.557973861694336\n",
      "Epoch: 3 | Loss: 1.1946394443511963\n",
      "\tgrad:  1.0 2.0 -0.5975041389465332\n",
      "\tgrad:  2.0 4.0 -2.3422164916992188\n",
      "\tgrad:  3.0 6.0 -4.848389625549316\n",
      "Epoch: 4 | Loss: 0.6529689431190491\n",
      "\tgrad:  1.0 2.0 -0.4417421817779541\n",
      "\tgrad:  2.0 4.0 -1.7316293716430664\n",
      "\tgrad:  3.0 6.0 -3.58447265625\n",
      "Epoch: 5 | Loss: 0.35690122842788696\n",
      "\tgrad:  1.0 2.0 -0.3265852928161621\n",
      "\tgrad:  2.0 4.0 -1.2802143096923828\n",
      "\tgrad:  3.0 6.0 -2.650045394897461\n",
      "Epoch: 6 | Loss: 0.195076122879982\n",
      "\tgrad:  1.0 2.0 -0.24144840240478516\n",
      "\tgrad:  2.0 4.0 -0.9464778900146484\n",
      "\tgrad:  3.0 6.0 -1.9592113494873047\n",
      "Epoch: 7 | Loss: 0.10662525147199631\n",
      "\tgrad:  1.0 2.0 -0.17850565910339355\n",
      "\tgrad:  2.0 4.0 -0.699742317199707\n",
      "\tgrad:  3.0 6.0 -1.4484672546386719\n",
      "Epoch: 8 | Loss: 0.0582793727517128\n",
      "\tgrad:  1.0 2.0 -0.1319713592529297\n",
      "\tgrad:  2.0 4.0 -0.5173273086547852\n",
      "\tgrad:  3.0 6.0 -1.070866584777832\n",
      "Epoch: 9 | Loss: 0.03185431286692619\n",
      "Prediction (after training) 4 7.804864406585693\n"
     ]
    }
   ],
   "source": [
    "# Before training\n",
    "print(\"Prediction (before training)\",  4, forward(4).item())\n",
    "\n",
    "# Training loop\n",
    "for epoch in range(10):\n",
    "    for x_val, y_val in zip(x_data, y_data):\n",
    "        y_pred = forward(x_val) # 1) Forward pass\n",
    "        l = loss(y_pred, y_val) # 2) Compute loss\n",
    "        l.backward() # 3) Back propagation to update weights\n",
    "        print(\"\\tgrad: \", x_val, y_val, w.grad.item())\n",
    "        w.data = w.data - 0.01 * w.grad.item()\n",
    "\n",
    "        # Manually zero the gradients after updating weights\n",
    "        w.grad.data.zero_()\n",
    "\n",
    "    print(f\"Epoch: {epoch} | Loss: {l.item()}\")\n",
    "\n",
    "# After training\n",
    "print(\"Prediction (after training)\",  4, forward(4).item())"
   ]
  },
  {
   "cell_type": "code",
   "execution_count": null,
   "metadata": {
    "id": "g2-Uws9x5nma"
   },
   "outputs": [],
   "source": []
  }
 ],
 "metadata": {
  "colab": {
   "authorship_tag": "ABX9TyMcnMT3goGbWvZg8yQa8yzk",
   "collapsed_sections": [],
   "name": "lecture9_3_Linear_model_back_propagation.ipynb",
   "provenance": [
    {
     "file_id": "1R1XMlf0XT6tcYH99IOOk49HmdwVd7IQ0",
     "timestamp": 1616333631559
    }
   ]
  },
  "kernelspec": {
   "display_name": "Python 3",
   "language": "python",
   "name": "python3"
  },
  "language_info": {
   "codemirror_mode": {
    "name": "ipython",
    "version": 3
   },
   "file_extension": ".py",
   "mimetype": "text/x-python",
   "name": "python",
   "nbconvert_exporter": "python",
   "pygments_lexer": "ipython3",
   "version": "3.8.5"
  }
 },
 "nbformat": 4,
 "nbformat_minor": 4
}
