{
 "cells": [
  {
   "cell_type": "markdown",
   "metadata": {},
   "source": [
    "https://docs.google.com/presentation/d/1X0POtQcf0E8ffCSL-f01tw5JBSP4Tsusn4pHr7eLajk/edit?usp=sharing"
   ]
  },
  {
   "cell_type": "code",
   "execution_count": 1,
   "metadata": {
    "executionInfo": {
     "elapsed": 1047,
     "status": "ok",
     "timestamp": 1616433782836,
     "user": {
      "displayName": "GyuSeung Kyeong",
      "photoUrl": "https://lh3.googleusercontent.com/a-/AOh14GjVl8iR-wRy9h8XpzjUIvCxKy_NYqpKS2XMhJItnCY=s64",
      "userId": "04899398769023255489"
     },
     "user_tz": -540
    },
    "id": "1C9XjPti86_9"
   },
   "outputs": [],
   "source": [
    "from torch import nn\n",
    "import torch\n",
    "from torch import tensor"
   ]
  },
  {
   "cell_type": "markdown",
   "metadata": {
    "id": "4fVKSwoEFg9W"
   },
   "source": [
    "# Import Data"
   ]
  },
  {
   "cell_type": "code",
   "execution_count": 2,
   "metadata": {
    "executionInfo": {
     "elapsed": 1040,
     "status": "ok",
     "timestamp": 1616433782837,
     "user": {
      "displayName": "GyuSeung Kyeong",
      "photoUrl": "https://lh3.googleusercontent.com/a-/AOh14GjVl8iR-wRy9h8XpzjUIvCxKy_NYqpKS2XMhJItnCY=s64",
      "userId": "04899398769023255489"
     },
     "user_tz": -540
    },
    "id": "OCQ-1v0x88aT"
   },
   "outputs": [],
   "source": [
    "x_data = tensor([[1.0], [2.0], [3.0]])\n",
    "y_data = tensor([[2.0], [4.0], [6.0]])"
   ]
  },
  {
   "cell_type": "markdown",
   "metadata": {
    "id": "R-VybpEc99-3"
   },
   "source": [
    "# Step1: Model Design\n",
    "Design your model using class with Variables\n",
    "\n",
    "$ \\hat{y} = x * w + b$  \n",
    "\n",
    "$ \\hat{y} = x * w$"
   ]
  },
  {
   "cell_type": "code",
   "execution_count": 3,
   "metadata": {
    "executionInfo": {
     "elapsed": 1034,
     "status": "ok",
     "timestamp": 1616433782837,
     "user": {
      "displayName": "GyuSeung Kyeong",
      "photoUrl": "https://lh3.googleusercontent.com/a-/AOh14GjVl8iR-wRy9h8XpzjUIvCxKy_NYqpKS2XMhJItnCY=s64",
      "userId": "04899398769023255489"
     },
     "user_tz": -540
    },
    "id": "cfdDAz5IFl_h"
   },
   "outputs": [],
   "source": [
    "# https://pytorch.org/docs/stable/generated/torch.nn.Linear.html\n",
    "class Model(nn.Module):\n",
    "    def __init__(self):\n",
    "        super(Model, self).__init__()        \n",
    "        # One in and one out, linear model\n",
    "        # Linear(x, y)->x: input size, y: output size\n",
    "        self.linear = torch.nn.Linear(1, 1)\n",
    "        # self.linear = torch.nn.Linear(1, 1, bias=False)\n",
    "\n",
    "    def forward(self, x):\n",
    "        y_pred = self.linear(x)\n",
    "        return y_pred"
   ]
  },
  {
   "cell_type": "code",
   "execution_count": 4,
   "metadata": {
    "executionInfo": {
     "elapsed": 1029,
     "status": "ok",
     "timestamp": 1616433782838,
     "user": {
      "displayName": "GyuSeung Kyeong",
      "photoUrl": "https://lh3.googleusercontent.com/a-/AOh14GjVl8iR-wRy9h8XpzjUIvCxKy_NYqpKS2XMhJItnCY=s64",
      "userId": "04899398769023255489"
     },
     "user_tz": -540
    },
    "id": "1ysaA4XNFpJA"
   },
   "outputs": [],
   "source": [
    "# model object\n",
    "model = Model()"
   ]
  },
  {
   "cell_type": "markdown",
   "metadata": {
    "id": "T4kuGMJ9FoqU"
   },
   "source": [
    "# Step2: Construct loss and optimizer \n",
    "## Loss Function"
   ]
  },
  {
   "cell_type": "code",
   "execution_count": 5,
   "metadata": {
    "executionInfo": {
     "elapsed": 1023,
     "status": "ok",
     "timestamp": 1616433782838,
     "user": {
      "displayName": "GyuSeung Kyeong",
      "photoUrl": "https://lh3.googleusercontent.com/a-/AOh14GjVl8iR-wRy9h8XpzjUIvCxKy_NYqpKS2XMhJItnCY=s64",
      "userId": "04899398769023255489"
     },
     "user_tz": -540
    },
    "id": "TBU8qsal9KOj"
   },
   "outputs": [],
   "source": [
    "# https://pytorch.org/docs/stable/generated/torch.nn.MSELoss.html\n",
    "# loss function: Mean Square Error\n",
    "# criterion: 표준, 척도, 기준\n",
    "criterion = torch.nn.MSELoss(reduction='sum')"
   ]
  },
  {
   "cell_type": "markdown",
   "metadata": {
    "id": "rLwCmsKtQdxk"
   },
   "source": [
    "## Optimizer"
   ]
  },
  {
   "cell_type": "code",
   "execution_count": 6,
   "metadata": {
    "executionInfo": {
     "elapsed": 1017,
     "status": "ok",
     "timestamp": 1616433782838,
     "user": {
      "displayName": "GyuSeung Kyeong",
      "photoUrl": "https://lh3.googleusercontent.com/a-/AOh14GjVl8iR-wRy9h8XpzjUIvCxKy_NYqpKS2XMhJItnCY=s64",
      "userId": "04899398769023255489"
     },
     "user_tz": -540
    },
    "id": "AMdJY-SWQcDD"
   },
   "outputs": [],
   "source": [
    "# https://pytorch.org/docs/stable/_modules/torch/optim/sgd.html\n",
    "# optimizer가 최적화 하기 위한 model의 weight를 불러오기: model.parameters()\n",
    "optimizer = torch.optim.SGD(model.parameters(), lr=0.01)"
   ]
  },
  {
   "cell_type": "code",
   "execution_count": 7,
   "metadata": {
    "colab": {
     "base_uri": "https://localhost:8080/"
    },
    "executionInfo": {
     "elapsed": 1011,
     "status": "ok",
     "timestamp": 1616433782839,
     "user": {
      "displayName": "GyuSeung Kyeong",
      "photoUrl": "https://lh3.googleusercontent.com/a-/AOh14GjVl8iR-wRy9h8XpzjUIvCxKy_NYqpKS2XMhJItnCY=s64",
      "userId": "04899398769023255489"
     },
     "user_tz": -540
    },
    "id": "tLdWWvGTKDaq",
    "outputId": "4bbce4bf-1ff3-4635-8178-30d4cbc4273b"
   },
   "outputs": [
    {
     "data": {
      "text/plain": [
       "[{'params': [Parameter containing:\n",
       "   tensor([[0.0553]], requires_grad=True),\n",
       "   Parameter containing:\n",
       "   tensor([-0.4102], requires_grad=True)],\n",
       "  'lr': 0.01,\n",
       "  'momentum': 0,\n",
       "  'dampening': 0,\n",
       "  'weight_decay': 0,\n",
       "  'nesterov': False}]"
      ]
     },
     "execution_count": 7,
     "metadata": {},
     "output_type": "execute_result"
    }
   ],
   "source": [
    "optimizer.param_groups"
   ]
  },
  {
   "cell_type": "markdown",
   "metadata": {
    "id": "SJKHYPvLGHTO"
   },
   "source": [
    "# Step3: Train Model\n",
    "forward, backward, update"
   ]
  },
  {
   "cell_type": "code",
   "execution_count": 8,
   "metadata": {
    "colab": {
     "base_uri": "https://localhost:8080/"
    },
    "executionInfo": {
     "elapsed": 1293,
     "status": "ok",
     "timestamp": 1616433783127,
     "user": {
      "displayName": "GyuSeung Kyeong",
      "photoUrl": "https://lh3.googleusercontent.com/a-/AOh14GjVl8iR-wRy9h8XpzjUIvCxKy_NYqpKS2XMhJItnCY=s64",
      "userId": "04899398769023255489"
     },
     "user_tz": -540
    },
    "id": "6V54jbgOAwkH",
    "outputId": "963132e4-7162-4f4e-cb84-1c7a6bd0a5c6"
   },
   "outputs": [
    {
     "name": "stdout",
     "output_type": "stream",
     "text": [
      "Epoch: 0 | Loss: 63.021419525146484 \n",
      "Epoch: 1 | Loss: 28.087722778320312 \n",
      "Epoch: 2 | Loss: 12.535772323608398 \n",
      "Epoch: 3 | Loss: 5.612023830413818 \n",
      "Epoch: 4 | Loss: 2.529315948486328 \n",
      "Epoch: 5 | Loss: 1.1565362215042114 \n",
      "Epoch: 6 | Loss: 0.5449754595756531 \n",
      "Epoch: 7 | Loss: 0.2722926437854767 \n",
      "Epoch: 8 | Loss: 0.1504753828048706 \n",
      "Epoch: 9 | Loss: 0.0958254262804985 \n",
      "Epoch: 10 | Loss: 0.07108239829540253 \n",
      "Epoch: 11 | Loss: 0.05965880677103996 \n",
      "Epoch: 12 | Loss: 0.05417090654373169 \n",
      "Epoch: 13 | Loss: 0.0513310581445694 \n",
      "Epoch: 14 | Loss: 0.049675531685352325 \n",
      "Epoch: 15 | Loss: 0.048553191125392914 \n",
      "Epoch: 16 | Loss: 0.04767347127199173 \n",
      "Epoch: 17 | Loss: 0.04690738767385483 \n",
      "Epoch: 18 | Loss: 0.04619721695780754 \n",
      "Epoch: 19 | Loss: 0.04551728069782257 \n",
      "Epoch: 20 | Loss: 0.04485594108700752 \n",
      "Epoch: 21 | Loss: 0.04420807957649231 \n",
      "Epoch: 22 | Loss: 0.043571364134550095 \n",
      "Epoch: 23 | Loss: 0.0429445281624794 \n",
      "Epoch: 24 | Loss: 0.04232700914144516 \n",
      "Epoch: 25 | Loss: 0.04171866178512573 \n",
      "Epoch: 26 | Loss: 0.04111909493803978 \n",
      "Epoch: 27 | Loss: 0.04052802920341492 \n",
      "Epoch: 28 | Loss: 0.03994560241699219 \n",
      "Epoch: 29 | Loss: 0.03937150537967682 \n",
      "Epoch: 30 | Loss: 0.03880573436617851 \n",
      "Epoch: 31 | Loss: 0.038247931748628616 \n",
      "Epoch: 32 | Loss: 0.03769831359386444 \n",
      "Epoch: 33 | Loss: 0.03715652599930763 \n",
      "Epoch: 34 | Loss: 0.036622531712055206 \n",
      "Epoch: 35 | Loss: 0.03609615936875343 \n",
      "Epoch: 36 | Loss: 0.0355774462223053 \n",
      "Epoch: 37 | Loss: 0.035066135227680206 \n",
      "Epoch: 38 | Loss: 0.0345621332526207 \n",
      "Epoch: 39 | Loss: 0.034065451472997665 \n",
      "Epoch: 40 | Loss: 0.0335758775472641 \n",
      "Epoch: 41 | Loss: 0.03309334069490433 \n",
      "Epoch: 42 | Loss: 0.032617729157209396 \n",
      "Epoch: 43 | Loss: 0.03214891627430916 \n",
      "Epoch: 44 | Loss: 0.03168686106801033 \n",
      "Epoch: 45 | Loss: 0.031231576576828957 \n",
      "Epoch: 46 | Loss: 0.030782682821154594 \n",
      "Epoch: 47 | Loss: 0.030340230092406273 \n",
      "Epoch: 48 | Loss: 0.029904307797551155 \n",
      "Epoch: 49 | Loss: 0.02947450615465641 \n",
      "Epoch: 50 | Loss: 0.029050905257463455 \n",
      "Epoch: 51 | Loss: 0.028633413836359978 \n",
      "Epoch: 52 | Loss: 0.028221823275089264 \n",
      "Epoch: 53 | Loss: 0.027816295623779297 \n",
      "Epoch: 54 | Loss: 0.027416495606303215 \n",
      "Epoch: 55 | Loss: 0.02702251449227333 \n",
      "Epoch: 56 | Loss: 0.02663416415452957 \n",
      "Epoch: 57 | Loss: 0.02625141479074955 \n",
      "Epoch: 58 | Loss: 0.025874128565192223 \n",
      "Epoch: 59 | Loss: 0.02550218254327774 \n",
      "Epoch: 60 | Loss: 0.025135749951004982 \n",
      "Epoch: 61 | Loss: 0.024774514138698578 \n",
      "Epoch: 62 | Loss: 0.02441847138106823 \n",
      "Epoch: 63 | Loss: 0.02406749688088894 \n",
      "Epoch: 64 | Loss: 0.02372160367667675 \n",
      "Epoch: 65 | Loss: 0.023380732163786888 \n",
      "Epoch: 66 | Loss: 0.023044701665639877 \n",
      "Epoch: 67 | Loss: 0.022713523358106613 \n",
      "Epoch: 68 | Loss: 0.022387107834219933 \n",
      "Epoch: 69 | Loss: 0.022065352648496628 \n",
      "Epoch: 70 | Loss: 0.02174825593829155 \n",
      "Epoch: 71 | Loss: 0.021435659378767014 \n",
      "Epoch: 72 | Loss: 0.0211276113986969 \n",
      "Epoch: 73 | Loss: 0.020824039354920387 \n",
      "Epoch: 74 | Loss: 0.020524678751826286 \n",
      "Epoch: 75 | Loss: 0.020229753106832504 \n",
      "Epoch: 76 | Loss: 0.019938930869102478 \n",
      "Epoch: 77 | Loss: 0.01965244859457016 \n",
      "Epoch: 78 | Loss: 0.019370006397366524 \n",
      "Epoch: 79 | Loss: 0.01909162476658821 \n",
      "Epoch: 80 | Loss: 0.018817290663719177 \n",
      "Epoch: 81 | Loss: 0.018546780571341515 \n",
      "Epoch: 82 | Loss: 0.01828029751777649 \n",
      "Epoch: 83 | Loss: 0.01801760494709015 \n",
      "Epoch: 84 | Loss: 0.01775863580405712 \n",
      "Epoch: 85 | Loss: 0.017503410577774048 \n",
      "Epoch: 86 | Loss: 0.01725185662508011 \n",
      "Epoch: 87 | Loss: 0.017003854736685753 \n",
      "Epoch: 88 | Loss: 0.01675952970981598 \n",
      "Epoch: 89 | Loss: 0.016518713906407356 \n",
      "Epoch: 90 | Loss: 0.016281288117170334 \n",
      "Epoch: 91 | Loss: 0.01604728028178215 \n",
      "Epoch: 92 | Loss: 0.015816662460565567 \n",
      "Epoch: 93 | Loss: 0.015589335933327675 \n",
      "Epoch: 94 | Loss: 0.015365282073616982 \n",
      "Epoch: 95 | Loss: 0.015144516713917255 \n",
      "Epoch: 96 | Loss: 0.014926855452358723 \n",
      "Epoch: 97 | Loss: 0.014712336473166943 \n",
      "Epoch: 98 | Loss: 0.014500867575407028 \n",
      "Epoch: 99 | Loss: 0.014292430132627487 \n"
     ]
    }
   ],
   "source": [
    "# Training loop\n",
    "for epoch in range(100):\n",
    "    # 1) Forward pass: Compute predicted y by passing x to the model\n",
    "    y_pred = model(x_data)\n",
    "\n",
    "    # 2) Compute and print loss\n",
    "    loss = criterion(y_pred, y_data)\n",
    "    print(f'Epoch: {epoch} | Loss: {loss.item()} ')\n",
    "\n",
    "    # Zero gradients, perform a backward pass, and update the weights.\n",
    "    optimizer.zero_grad()  # initialize all gradients\n",
    "    loss.backward()\n",
    "    optimizer.step()"
   ]
  },
  {
   "cell_type": "code",
   "execution_count": 9,
   "metadata": {
    "colab": {
     "base_uri": "https://localhost:8080/"
    },
    "executionInfo": {
     "elapsed": 1285,
     "status": "ok",
     "timestamp": 1616433783127,
     "user": {
      "displayName": "GyuSeung Kyeong",
      "photoUrl": "https://lh3.googleusercontent.com/a-/AOh14GjVl8iR-wRy9h8XpzjUIvCxKy_NYqpKS2XMhJItnCY=s64",
      "userId": "04899398769023255489"
     },
     "user_tz": -540
    },
    "id": "W98o_Jy5Kmhp",
    "outputId": "b68cae61-03e3-4ac0-d7de-1f0a835a81d6"
   },
   "outputs": [
    {
     "name": "stdout",
     "output_type": "stream",
     "text": [
      "linear.weight Parameter containing:\n",
      "tensor([[1.9204]], requires_grad=True)\n",
      "linear.bias Parameter containing:\n",
      "tensor([0.1809], requires_grad=True)\n"
     ]
    }
   ],
   "source": [
    "for name, param in model.named_parameters():\n",
    "    print(name, param)"
   ]
  },
  {
   "cell_type": "markdown",
   "metadata": {
    "id": "Jaz3Y03UKfpv"
   },
   "source": [
    "# Predict Value"
   ]
  },
  {
   "cell_type": "code",
   "execution_count": 10,
   "metadata": {
    "colab": {
     "base_uri": "https://localhost:8080/"
    },
    "executionInfo": {
     "elapsed": 1280,
     "status": "ok",
     "timestamp": 1616433783128,
     "user": {
      "displayName": "GyuSeung Kyeong",
      "photoUrl": "https://lh3.googleusercontent.com/a-/AOh14GjVl8iR-wRy9h8XpzjUIvCxKy_NYqpKS2XMhJItnCY=s64",
      "userId": "04899398769023255489"
     },
     "user_tz": -540
    },
    "id": "g2-Uws9x5nma",
    "outputId": "ee2bb7fd-72e6-49cf-c2e6-3f0398561495"
   },
   "outputs": [
    {
     "name": "stdout",
     "output_type": "stream",
     "text": [
      "Prediction (after training) 4 7.8625712394714355\n"
     ]
    }
   ],
   "source": [
    "# After training\n",
    "hour_var = tensor([[4.0]])\n",
    "y_pred = model(hour_var)\n",
    "print(\"Prediction (after training)\",  4, model(hour_var).data[0][0].item())"
   ]
  },
  {
   "cell_type": "code",
   "execution_count": null,
   "metadata": {
    "executionInfo": {
     "elapsed": 1274,
     "status": "ok",
     "timestamp": 1616433783128,
     "user": {
      "displayName": "GyuSeung Kyeong",
      "photoUrl": "https://lh3.googleusercontent.com/a-/AOh14GjVl8iR-wRy9h8XpzjUIvCxKy_NYqpKS2XMhJItnCY=s64",
      "userId": "04899398769023255489"
     },
     "user_tz": -540
    },
    "id": "WK_mecnqKiGf"
   },
   "outputs": [],
   "source": []
  }
 ],
 "metadata": {
  "colab": {
   "authorship_tag": "ABX9TyMJXuVB3QAI7NEB8j1MdoFF",
   "collapsed_sections": [],
   "name": "lecture9_4_Linear_model_with_PyTorch.ipynb",
   "provenance": [
    {
     "file_id": "1R1XMlf0XT6tcYH99IOOk49HmdwVd7IQ0",
     "timestamp": 1616333631559
    }
   ]
  },
  "kernelspec": {
   "display_name": "Python 3",
   "language": "python",
   "name": "python3"
  },
  "language_info": {
   "codemirror_mode": {
    "name": "ipython",
    "version": 3
   },
   "file_extension": ".py",
   "mimetype": "text/x-python",
   "name": "python",
   "nbconvert_exporter": "python",
   "pygments_lexer": "ipython3",
   "version": "3.8.5"
  }
 },
 "nbformat": 4,
 "nbformat_minor": 4
}
