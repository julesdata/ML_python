{
 "cells": [
  {
   "cell_type": "markdown",
   "metadata": {},
   "source": [
    "https://docs.google.com/presentation/d/1X0POtQcf0E8ffCSL-f01tw5JBSP4Tsusn4pHr7eLajk/edit?usp=sharing"
   ]
  },
  {
   "cell_type": "code",
   "execution_count": 1,
   "metadata": {
    "executionInfo": {
     "elapsed": 1326,
     "status": "ok",
     "timestamp": 1616433769076,
     "user": {
      "displayName": "GyuSeung Kyeong",
      "photoUrl": "https://lh3.googleusercontent.com/a-/AOh14GjVl8iR-wRy9h8XpzjUIvCxKy_NYqpKS2XMhJItnCY=s64",
      "userId": "04899398769023255489"
     },
     "user_tz": -540
    },
    "id": "1C9XjPti86_9"
   },
   "outputs": [],
   "source": [
    "import torch\n",
    "from torch import tensor\n",
    "from torch import nn\n",
    "from torch import sigmoid\n",
    "import torch.nn.functional as F\n",
    "import torch.optim as optim"
   ]
  },
  {
   "cell_type": "markdown",
   "metadata": {
    "id": "4fVKSwoEFg9W"
   },
   "source": [
    "# Import Data"
   ]
  },
  {
   "cell_type": "code",
   "execution_count": 2,
   "metadata": {
    "executionInfo": {
     "elapsed": 1320,
     "status": "ok",
     "timestamp": 1616433769077,
     "user": {
      "displayName": "GyuSeung Kyeong",
      "photoUrl": "https://lh3.googleusercontent.com/a-/AOh14GjVl8iR-wRy9h8XpzjUIvCxKy_NYqpKS2XMhJItnCY=s64",
      "userId": "04899398769023255489"
     },
     "user_tz": -540
    },
    "id": "OCQ-1v0x88aT"
   },
   "outputs": [],
   "source": [
    "x_data = tensor([[1.0], [2.0], [3.0], [4.0]])\n",
    "y_data = tensor([[0.0], [0.0], [1.0], [1.0]])"
   ]
  },
  {
   "cell_type": "markdown",
   "metadata": {
    "id": "R-VybpEc99-3"
   },
   "source": [
    "# Step1: Model Design\n",
    "Design your model using class with Variables\n",
    "\n",
    "$ \\hat{y} = \\sigma(x * w + b)$  "
   ]
  },
  {
   "cell_type": "code",
   "execution_count": 3,
   "metadata": {
    "executionInfo": {
     "elapsed": 1314,
     "status": "ok",
     "timestamp": 1616433769077,
     "user": {
      "displayName": "GyuSeung Kyeong",
      "photoUrl": "https://lh3.googleusercontent.com/a-/AOh14GjVl8iR-wRy9h8XpzjUIvCxKy_NYqpKS2XMhJItnCY=s64",
      "userId": "04899398769023255489"
     },
     "user_tz": -540
    },
    "id": "0QUIwuzf6Iym"
   },
   "outputs": [],
   "source": [
    "class Model(nn.Module):\n",
    "    def __init__(self):\n",
    "\n",
    "        super(Model, self).__init__()\n",
    "        # One in and one out, linear model\n",
    "        # Linear(x, y)->x: input size, y: output size\n",
    "        self.linear = nn.Linear(1, 1)  # One in and one out\n",
    "\n",
    "    def forward(self, x):\n",
    "        y_pred = sigmoid(self.linear(x))  # different point btw classification and regression\n",
    "        return y_pred"
   ]
  },
  {
   "cell_type": "code",
   "execution_count": 4,
   "metadata": {
    "executionInfo": {
     "elapsed": 1310,
     "status": "ok",
     "timestamp": 1616433769078,
     "user": {
      "displayName": "GyuSeung Kyeong",
      "photoUrl": "https://lh3.googleusercontent.com/a-/AOh14GjVl8iR-wRy9h8XpzjUIvCxKy_NYqpKS2XMhJItnCY=s64",
      "userId": "04899398769023255489"
     },
     "user_tz": -540
    },
    "id": "1ysaA4XNFpJA"
   },
   "outputs": [],
   "source": [
    "# model object\n",
    "model = Model()"
   ]
  },
  {
   "cell_type": "markdown",
   "metadata": {
    "id": "T4kuGMJ9FoqU"
   },
   "source": [
    "# Step2: Construct loss and optimizer \n",
    "## Loss Function"
   ]
  },
  {
   "cell_type": "code",
   "execution_count": 5,
   "metadata": {
    "executionInfo": {
     "elapsed": 1304,
     "status": "ok",
     "timestamp": 1616433769078,
     "user": {
      "displayName": "GyuSeung Kyeong",
      "photoUrl": "https://lh3.googleusercontent.com/a-/AOh14GjVl8iR-wRy9h8XpzjUIvCxKy_NYqpKS2XMhJItnCY=s64",
      "userId": "04899398769023255489"
     },
     "user_tz": -540
    },
    "id": "TBU8qsal9KOj"
   },
   "outputs": [],
   "source": [
    "# https://pytorch.org/docs/stable/generated/torch.nn.BCELoss.html\n",
    "# loss function: Binary Cross Entropy\n",
    "# criterion: 표준, 척도, 기준\n",
    "criterion = torch.nn.BCELoss(reduction='mean')  # different point btw classification and regression"
   ]
  },
  {
   "cell_type": "markdown",
   "metadata": {
    "id": "rLwCmsKtQdxk"
   },
   "source": [
    "## Optimizer"
   ]
  },
  {
   "cell_type": "code",
   "execution_count": 6,
   "metadata": {
    "executionInfo": {
     "elapsed": 1300,
     "status": "ok",
     "timestamp": 1616433769079,
     "user": {
      "displayName": "GyuSeung Kyeong",
      "photoUrl": "https://lh3.googleusercontent.com/a-/AOh14GjVl8iR-wRy9h8XpzjUIvCxKy_NYqpKS2XMhJItnCY=s64",
      "userId": "04899398769023255489"
     },
     "user_tz": -540
    },
    "id": "AMdJY-SWQcDD"
   },
   "outputs": [],
   "source": [
    "# https://pytorch.org/docs/stable/_modules/torch/optim/sgd.html\n",
    "# optimizer가 최적화 하기 위한 model의 weight를 불러오기: model.parameters()\n",
    "optimizer = torch.optim.SGD(model.parameters(), lr=0.01)"
   ]
  },
  {
   "cell_type": "code",
   "execution_count": 7,
   "metadata": {
    "colab": {
     "base_uri": "https://localhost:8080/"
    },
    "executionInfo": {
     "elapsed": 1296,
     "status": "ok",
     "timestamp": 1616433769080,
     "user": {
      "displayName": "GyuSeung Kyeong",
      "photoUrl": "https://lh3.googleusercontent.com/a-/AOh14GjVl8iR-wRy9h8XpzjUIvCxKy_NYqpKS2XMhJItnCY=s64",
      "userId": "04899398769023255489"
     },
     "user_tz": -540
    },
    "id": "tLdWWvGTKDaq",
    "outputId": "526d3709-f405-4e82-9ee4-e2eb08555d99"
   },
   "outputs": [
    {
     "data": {
      "text/plain": [
       "[{'params': [Parameter containing:\n",
       "   tensor([[-0.2511]], requires_grad=True),\n",
       "   Parameter containing:\n",
       "   tensor([0.5059], requires_grad=True)],\n",
       "  'lr': 0.01,\n",
       "  'momentum': 0,\n",
       "  'dampening': 0,\n",
       "  'weight_decay': 0,\n",
       "  'nesterov': False}]"
      ]
     },
     "execution_count": 7,
     "metadata": {},
     "output_type": "execute_result"
    }
   ],
   "source": [
    "optimizer.param_groups"
   ]
  },
  {
   "cell_type": "markdown",
   "metadata": {
    "id": "SJKHYPvLGHTO"
   },
   "source": [
    "# Step3: Train Model\n",
    "forward, backward, update"
   ]
  },
  {
   "cell_type": "code",
   "execution_count": 8,
   "metadata": {
    "colab": {
     "base_uri": "https://localhost:8080/"
    },
    "executionInfo": {
     "elapsed": 1692,
     "status": "ok",
     "timestamp": 1616433769483,
     "user": {
      "displayName": "GyuSeung Kyeong",
      "photoUrl": "https://lh3.googleusercontent.com/a-/AOh14GjVl8iR-wRy9h8XpzjUIvCxKy_NYqpKS2XMhJItnCY=s64",
      "userId": "04899398769023255489"
     },
     "user_tz": -540
    },
    "id": "6V54jbgOAwkH",
    "outputId": "53676a53-55d1-4b63-c961-c14acd1ccaa6"
   },
   "outputs": [
    {
     "name": "stdout",
     "output_type": "stream",
     "text": [
      "Epoch: 0 | Loss: 0.8303244709968567 \n",
      "Epoch: 10 | Loss: 0.7944744825363159 \n",
      "Epoch: 20 | Loss: 0.7697370648384094 \n",
      "Epoch: 30 | Loss: 0.7523869276046753 \n",
      "Epoch: 40 | Loss: 0.7398848533630371 \n",
      "Epoch: 50 | Loss: 0.7305552363395691 \n",
      "Epoch: 60 | Loss: 0.723307728767395 \n",
      "Epoch: 70 | Loss: 0.7174354195594788 \n",
      "Epoch: 80 | Loss: 0.712478756904602 \n",
      "Epoch: 90 | Loss: 0.7081379890441895 \n",
      "Epoch: 100 | Loss: 0.7042156457901001 \n",
      "Epoch: 110 | Loss: 0.7005813121795654 \n",
      "Epoch: 120 | Loss: 0.6971482038497925 \n",
      "Epoch: 130 | Loss: 0.6938580274581909 \n",
      "Epoch: 140 | Loss: 0.6906715631484985 \n",
      "Epoch: 150 | Loss: 0.6875623464584351 \n",
      "Epoch: 160 | Loss: 0.6845123767852783 \n",
      "Epoch: 170 | Loss: 0.6815094351768494 \n",
      "Epoch: 180 | Loss: 0.6785447597503662 \n",
      "Epoch: 190 | Loss: 0.67561274766922 \n",
      "Epoch: 200 | Loss: 0.6727093458175659 \n",
      "Epoch: 210 | Loss: 0.6698317527770996 \n",
      "Epoch: 220 | Loss: 0.6669779419898987 \n",
      "Epoch: 230 | Loss: 0.6641466617584229 \n",
      "Epoch: 240 | Loss: 0.6613367795944214 \n",
      "Epoch: 250 | Loss: 0.658547580242157 \n",
      "Epoch: 260 | Loss: 0.6557785272598267 \n",
      "Epoch: 270 | Loss: 0.6530292630195618 \n",
      "Epoch: 280 | Loss: 0.6502995491027832 \n",
      "Epoch: 290 | Loss: 0.6475889086723328 \n",
      "Epoch: 300 | Loss: 0.6448973417282104 \n",
      "Epoch: 310 | Loss: 0.6422245502471924 \n",
      "Epoch: 320 | Loss: 0.639570415019989 \n",
      "Epoch: 330 | Loss: 0.6369348168373108 \n",
      "Epoch: 340 | Loss: 0.6343175768852234 \n",
      "Epoch: 350 | Loss: 0.6317185163497925 \n",
      "Epoch: 360 | Loss: 0.6291374564170837 \n",
      "Epoch: 370 | Loss: 0.6265745162963867 \n",
      "Epoch: 380 | Loss: 0.6240294575691223 \n",
      "Epoch: 390 | Loss: 0.6215021014213562 \n",
      "Epoch: 400 | Loss: 0.618992269039154 \n",
      "Epoch: 410 | Loss: 0.6164999604225159 \n",
      "Epoch: 420 | Loss: 0.6140251159667969 \n",
      "Epoch: 430 | Loss: 0.611567497253418 \n",
      "Epoch: 440 | Loss: 0.6091269850730896 \n",
      "Epoch: 450 | Loss: 0.606703519821167 \n",
      "Epoch: 460 | Loss: 0.6042969226837158 \n",
      "Epoch: 470 | Loss: 0.6019071340560913 \n",
      "Epoch: 480 | Loss: 0.5995340943336487 \n",
      "Epoch: 490 | Loss: 0.5971776247024536 \n",
      "Epoch: 500 | Loss: 0.594837486743927 \n",
      "Epoch: 510 | Loss: 0.5925137400627136 \n",
      "Epoch: 520 | Loss: 0.5902062654495239 \n",
      "Epoch: 530 | Loss: 0.587914764881134 \n",
      "Epoch: 540 | Loss: 0.5856393575668335 \n",
      "Epoch: 550 | Loss: 0.5833798050880432 \n",
      "Epoch: 560 | Loss: 0.5811359882354736 \n",
      "Epoch: 570 | Loss: 0.5789077877998352 \n",
      "Epoch: 580 | Loss: 0.5766952037811279 \n",
      "Epoch: 590 | Loss: 0.5744979977607727 \n",
      "Epoch: 600 | Loss: 0.5723161101341248 \n",
      "Epoch: 610 | Loss: 0.5701493620872498 \n",
      "Epoch: 620 | Loss: 0.5679976940155029 \n",
      "Epoch: 630 | Loss: 0.5658611059188843 \n",
      "Epoch: 640 | Loss: 0.5637392997741699 \n",
      "Epoch: 650 | Loss: 0.5616322159767151 \n",
      "Epoch: 660 | Loss: 0.559539794921875 \n",
      "Epoch: 670 | Loss: 0.5574619174003601 \n",
      "Epoch: 680 | Loss: 0.5553984045982361 \n",
      "Epoch: 690 | Loss: 0.5533492565155029 \n",
      "Epoch: 700 | Loss: 0.5513143539428711 \n",
      "Epoch: 710 | Loss: 0.5492935180664062 \n",
      "Epoch: 720 | Loss: 0.5472866892814636 \n",
      "Epoch: 730 | Loss: 0.5452936887741089 \n",
      "Epoch: 740 | Loss: 0.543314516544342 \n",
      "Epoch: 750 | Loss: 0.5413489937782288 \n",
      "Epoch: 760 | Loss: 0.5393970012664795 \n",
      "Epoch: 770 | Loss: 0.5374585390090942 \n",
      "Epoch: 780 | Loss: 0.5355333089828491 \n",
      "Epoch: 790 | Loss: 0.5336214900016785 \n",
      "Epoch: 800 | Loss: 0.5317227840423584 \n",
      "Epoch: 810 | Loss: 0.5298370718955994 \n",
      "Epoch: 820 | Loss: 0.5279643535614014 \n",
      "Epoch: 830 | Loss: 0.5261044502258301 \n",
      "Epoch: 840 | Loss: 0.5242573022842407 \n",
      "Epoch: 850 | Loss: 0.5224227905273438 \n",
      "Epoch: 860 | Loss: 0.5206007957458496 \n",
      "Epoch: 870 | Loss: 0.5187913775444031 \n",
      "Epoch: 880 | Loss: 0.5169941186904907 \n",
      "Epoch: 890 | Loss: 0.5152092576026917 \n",
      "Epoch: 900 | Loss: 0.513436496257782 \n",
      "Epoch: 910 | Loss: 0.5116757750511169 \n",
      "Epoch: 920 | Loss: 0.5099270343780518 \n",
      "Epoch: 930 | Loss: 0.5081901550292969 \n",
      "Epoch: 940 | Loss: 0.5064650177955627 \n",
      "Epoch: 950 | Loss: 0.5047516226768494 \n",
      "Epoch: 960 | Loss: 0.5030497908592224 \n",
      "Epoch: 970 | Loss: 0.5013594627380371 \n",
      "Epoch: 980 | Loss: 0.4996805489063263 \n",
      "Epoch: 990 | Loss: 0.49801287055015564 \n"
     ]
    }
   ],
   "source": [
    "# Training loop\n",
    "for epoch in range(1000):\n",
    "    # 1) Forward pass: Compute predicted y by passing x to the model\n",
    "    y_pred = model(x_data)\n",
    "\n",
    "    # 2) Compute and print loss\n",
    "    loss = criterion(y_pred, y_data)\n",
    "    if epoch % 10 == 0:\n",
    "        print(f'Epoch: {epoch} | Loss: {loss.item()} ')\n",
    "\n",
    "    # Zero gradients, perform a backward pass, and update the weights.\n",
    "    optimizer.zero_grad()  # initialize all gradients\n",
    "    loss.backward()\n",
    "    optimizer.step()"
   ]
  },
  {
   "cell_type": "code",
   "execution_count": 9,
   "metadata": {
    "colab": {
     "base_uri": "https://localhost:8080/"
    },
    "executionInfo": {
     "elapsed": 1687,
     "status": "ok",
     "timestamp": 1616433769484,
     "user": {
      "displayName": "GyuSeung Kyeong",
      "photoUrl": "https://lh3.googleusercontent.com/a-/AOh14GjVl8iR-wRy9h8XpzjUIvCxKy_NYqpKS2XMhJItnCY=s64",
      "userId": "04899398769023255489"
     },
     "user_tz": -540
    },
    "id": "W98o_Jy5Kmhp",
    "outputId": "66208a36-cefc-4ccb-e033-af6a2e2115c4"
   },
   "outputs": [
    {
     "name": "stdout",
     "output_type": "stream",
     "text": [
      "linear.weight Parameter containing:\n",
      "tensor([[0.5522]], requires_grad=True)\n",
      "linear.bias Parameter containing:\n",
      "tensor([-0.8418], requires_grad=True)\n"
     ]
    }
   ],
   "source": [
    "for name, param in model.named_parameters():\n",
    "    print(name, param)"
   ]
  },
  {
   "cell_type": "markdown",
   "metadata": {
    "id": "Jaz3Y03UKfpv"
   },
   "source": [
    "# Predict Value"
   ]
  },
  {
   "cell_type": "code",
   "execution_count": 10,
   "metadata": {
    "colab": {
     "base_uri": "https://localhost:8080/"
    },
    "executionInfo": {
     "elapsed": 1679,
     "status": "ok",
     "timestamp": 1616433769484,
     "user": {
      "displayName": "GyuSeung Kyeong",
      "photoUrl": "https://lh3.googleusercontent.com/a-/AOh14GjVl8iR-wRy9h8XpzjUIvCxKy_NYqpKS2XMhJItnCY=s64",
      "userId": "04899398769023255489"
     },
     "user_tz": -540
    },
    "id": "g2-Uws9x5nma",
    "outputId": "1e16023f-8123-44db-9b50-282e793369a4"
   },
   "outputs": [
    {
     "name": "stdout",
     "output_type": "stream",
     "text": [
      "\n",
      "Let's predict the hours need to score above 50%\n",
      "==================================================\n",
      "Prediction after 1 hour of training: 0.4281 | Above 50%: False\n",
      "Prediction after 7 hours of training: 0.9536 | Above 50%: True\n"
     ]
    }
   ],
   "source": [
    "# After training\n",
    "print(f'\\nLet\\'s predict the hours need to score above 50%\\n{\"=\" * 50}')\n",
    "hour_var = model(tensor([[1.0]]))\n",
    "print(f'Prediction after 1 hour of training: {hour_var.item():.4f} | Above 50%: {hour_var.item() > 0.5}')\n",
    "hour_var = model(tensor([[7.0]]))\n",
    "print(f'Prediction after 7 hours of training: {hour_var.item():.4f} | Above 50%: { hour_var.item() > 0.5}')"
   ]
  },
  {
   "cell_type": "code",
   "execution_count": null,
   "metadata": {
    "executionInfo": {
     "elapsed": 1673,
     "status": "ok",
     "timestamp": 1616433769484,
     "user": {
      "displayName": "GyuSeung Kyeong",
      "photoUrl": "https://lh3.googleusercontent.com/a-/AOh14GjVl8iR-wRy9h8XpzjUIvCxKy_NYqpKS2XMhJItnCY=s64",
      "userId": "04899398769023255489"
     },
     "user_tz": -540
    },
    "id": "WK_mecnqKiGf"
   },
   "outputs": [],
   "source": []
  }
 ],
 "metadata": {
  "colab": {
   "authorship_tag": "ABX9TyM96HYwqAnz17GmTSWTE5bE",
   "collapsed_sections": [],
   "name": "lecture9_5_Logistic_regression_with_PyTorch.ipynb",
   "provenance": [
    {
     "file_id": "1R1XMlf0XT6tcYH99IOOk49HmdwVd7IQ0",
     "timestamp": 1616333631559
    }
   ]
  },
  "kernelspec": {
   "display_name": "Python 3",
   "language": "python",
   "name": "python3"
  },
  "language_info": {
   "codemirror_mode": {
    "name": "ipython",
    "version": 3
   },
   "file_extension": ".py",
   "mimetype": "text/x-python",
   "name": "python",
   "nbconvert_exporter": "python",
   "pygments_lexer": "ipython3",
   "version": "3.8.5"
  }
 },
 "nbformat": 4,
 "nbformat_minor": 4
}
