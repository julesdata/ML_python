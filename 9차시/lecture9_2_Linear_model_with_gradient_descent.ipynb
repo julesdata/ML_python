{
 "cells": [
  {
   "cell_type": "markdown",
   "metadata": {},
   "source": [
    "https://docs.google.com/presentation/d/1X0POtQcf0E8ffCSL-f01tw5JBSP4Tsusn4pHr7eLajk/edit?usp=sharing"
   ]
  },
  {
   "cell_type": "code",
   "execution_count": 1,
   "metadata": {
    "executionInfo": {
     "elapsed": 791,
     "status": "ok",
     "timestamp": 1616334320342,
     "user": {
      "displayName": "GyuSeung Kyeong",
      "photoUrl": "https://lh3.googleusercontent.com/a-/AOh14GjVl8iR-wRy9h8XpzjUIvCxKy_NYqpKS2XMhJItnCY=s64",
      "userId": "04899398769023255489"
     },
     "user_tz": -540
    },
    "id": "1C9XjPti86_9"
   },
   "outputs": [],
   "source": [
    "import numpy as np"
   ]
  },
  {
   "cell_type": "markdown",
   "metadata": {
    "id": "4fVKSwoEFg9W"
   },
   "source": [
    "# Import Data"
   ]
  },
  {
   "cell_type": "code",
   "execution_count": 2,
   "metadata": {
    "executionInfo": {
     "elapsed": 969,
     "status": "ok",
     "timestamp": 1616334320779,
     "user": {
      "displayName": "GyuSeung Kyeong",
      "photoUrl": "https://lh3.googleusercontent.com/a-/AOh14GjVl8iR-wRy9h8XpzjUIvCxKy_NYqpKS2XMhJItnCY=s64",
      "userId": "04899398769023255489"
     },
     "user_tz": -540
    },
    "id": "OCQ-1v0x88aT"
   },
   "outputs": [],
   "source": [
    "x_data = [1.0, 2.0, 3.0]\n",
    "y_data = [2.0, 4.0, 6.0]"
   ]
  },
  {
   "cell_type": "markdown",
   "metadata": {
    "id": "R-VybpEc99-3"
   },
   "source": [
    "# Model Design\n",
    "$ \\hat{y} = x * w $"
   ]
  },
  {
   "cell_type": "code",
   "execution_count": 3,
   "metadata": {
    "executionInfo": {
     "elapsed": 1020,
     "status": "ok",
     "timestamp": 1616334321064,
     "user": {
      "displayName": "GyuSeung Kyeong",
      "photoUrl": "https://lh3.googleusercontent.com/a-/AOh14GjVl8iR-wRy9h8XpzjUIvCxKy_NYqpKS2XMhJItnCY=s64",
      "userId": "04899398769023255489"
     },
     "user_tz": -540
    },
    "id": "cfdDAz5IFl_h"
   },
   "outputs": [],
   "source": [
    "# our model for the forward pass\n",
    "def forward(x):\n",
    "    return x * w"
   ]
  },
  {
   "cell_type": "markdown",
   "metadata": {
    "id": "T4kuGMJ9FoqU"
   },
   "source": [
    "# Define Loss Function"
   ]
  },
  {
   "cell_type": "code",
   "execution_count": 4,
   "metadata": {
    "executionInfo": {
     "elapsed": 768,
     "status": "ok",
     "timestamp": 1616334321065,
     "user": {
      "displayName": "GyuSeung Kyeong",
      "photoUrl": "https://lh3.googleusercontent.com/a-/AOh14GjVl8iR-wRy9h8XpzjUIvCxKy_NYqpKS2XMhJItnCY=s64",
      "userId": "04899398769023255489"
     },
     "user_tz": -540
    },
    "id": "TBU8qsal9KOj"
   },
   "outputs": [],
   "source": [
    "# Loss function(Cost function): 실제 값과 예측 값의 차이를 표현하는 지표\n",
    "def loss(x, y):\n",
    "    y_pred = forward(x)\n",
    "    return (y_pred - y) ** 2"
   ]
  },
  {
   "cell_type": "markdown",
   "metadata": {
    "id": "rLwCmsKtQdxk"
   },
   "source": [
    "# Define gradient for Gradient Descent algorithm"
   ]
  },
  {
   "cell_type": "code",
   "execution_count": 5,
   "metadata": {
    "executionInfo": {
     "elapsed": 711,
     "status": "ok",
     "timestamp": 1616334321355,
     "user": {
      "displayName": "GyuSeung Kyeong",
      "photoUrl": "https://lh3.googleusercontent.com/a-/AOh14GjVl8iR-wRy9h8XpzjUIvCxKy_NYqpKS2XMhJItnCY=s64",
      "userId": "04899398769023255489"
     },
     "user_tz": -540
    },
    "id": "AMdJY-SWQcDD"
   },
   "outputs": [],
   "source": [
    "# compute gradient\n",
    "def gradient(x, y):  # d_loss/d_w\n",
    "    return 2 * x * (x * w - y)"
   ]
  },
  {
   "cell_type": "markdown",
   "metadata": {
    "id": "SJKHYPvLGHTO"
   },
   "source": [
    "# Train Model"
   ]
  },
  {
   "cell_type": "code",
   "execution_count": 6,
   "metadata": {
    "colab": {
     "base_uri": "https://localhost:8080/"
    },
    "executionInfo": {
     "elapsed": 680,
     "status": "ok",
     "timestamp": 1616334321973,
     "user": {
      "displayName": "GyuSeung Kyeong",
      "photoUrl": "https://lh3.googleusercontent.com/a-/AOh14GjVl8iR-wRy9h8XpzjUIvCxKy_NYqpKS2XMhJItnCY=s64",
      "userId": "04899398769023255489"
     },
     "user_tz": -540
    },
    "id": "kc_WwxdT2nlu",
    "outputId": "96003313-74f3-4155-f03f-96addc68195e"
   },
   "outputs": [
    {
     "name": "stdout",
     "output_type": "stream",
     "text": [
      "Prediction (before training) 4 hours of studying:  4.0\n",
      "\tgrad:  1.0 2.0 -2.0\n",
      "\tgrad:  2.0 4.0 -7.84\n",
      "\tgrad:  3.0 6.0 -16.23\n",
      "progress: 0 w= 1.26 loss= 4.92\n",
      "--------------------------------------\n",
      "\tgrad:  1.0 2.0 -1.48\n",
      "\tgrad:  2.0 4.0 -5.8\n",
      "\tgrad:  3.0 6.0 -12.0\n",
      "progress: 1 w= 1.45 loss= 2.69\n",
      "--------------------------------------\n",
      "\tgrad:  1.0 2.0 -1.09\n",
      "\tgrad:  2.0 4.0 -4.29\n",
      "\tgrad:  3.0 6.0 -8.87\n",
      "progress: 2 w= 1.6 loss= 1.47\n",
      "--------------------------------------\n",
      "\tgrad:  1.0 2.0 -0.81\n",
      "\tgrad:  2.0 4.0 -3.17\n",
      "\tgrad:  3.0 6.0 -6.56\n",
      "progress: 3 w= 1.7 loss= 0.8\n",
      "--------------------------------------\n",
      "\tgrad:  1.0 2.0 -0.6\n",
      "\tgrad:  2.0 4.0 -2.34\n",
      "\tgrad:  3.0 6.0 -4.85\n",
      "progress: 4 w= 1.78 loss= 0.44\n",
      "--------------------------------------\n",
      "\tgrad:  1.0 2.0 -0.44\n",
      "\tgrad:  2.0 4.0 -1.73\n",
      "\tgrad:  3.0 6.0 -3.58\n",
      "progress: 5 w= 1.84 loss= 0.24\n",
      "--------------------------------------\n",
      "\tgrad:  1.0 2.0 -0.33\n",
      "\tgrad:  2.0 4.0 -1.28\n",
      "\tgrad:  3.0 6.0 -2.65\n",
      "progress: 6 w= 1.88 loss= 0.13\n",
      "--------------------------------------\n",
      "\tgrad:  1.0 2.0 -0.24\n",
      "\tgrad:  2.0 4.0 -0.95\n",
      "\tgrad:  3.0 6.0 -1.96\n",
      "progress: 7 w= 1.91 loss= 0.07\n",
      "--------------------------------------\n",
      "\tgrad:  1.0 2.0 -0.18\n",
      "\tgrad:  2.0 4.0 -0.7\n",
      "\tgrad:  3.0 6.0 -1.45\n",
      "progress: 8 w= 1.93 loss= 0.04\n",
      "--------------------------------------\n",
      "\tgrad:  1.0 2.0 -0.13\n",
      "\tgrad:  2.0 4.0 -0.52\n",
      "\tgrad:  3.0 6.0 -1.07\n",
      "progress: 9 w= 1.95 loss= 0.02\n",
      "--------------------------------------\n",
      "Predicted score (after training) 4 hours of studying:  7.804863933862125\n"
     ]
    }
   ],
   "source": [
    "# w initialize with random guess\n",
    "w = 1.0\n",
    "\n",
    "# Before training\n",
    "print(\"Prediction (before training)\",  \"4 hours of studying: \", forward(4))\n",
    "\n",
    "# Training loop\n",
    "for epoch in range(10):\n",
    "    for x_val, y_val in zip(x_data, y_data):\n",
    "        # Compute derivative w.r.t to the learned weights\n",
    "        # Update the weights\n",
    "        # Compute the loss and print progress    \n",
    "        \n",
    "        grad = gradient(x_val, y_val)\n",
    "        w = w - 0.01 * grad\n",
    "        print(\"\\tgrad: \", x_val, y_val, round(grad, 2))\n",
    "        l = loss(x_val, y_val)\n",
    "    print(\"progress:\", epoch, \"w=\", round(w, 2), \"loss=\", round(l, 2))\n",
    "    print(\"--------------------------------------\")\n",
    "\n",
    "# After training\n",
    "print(\"Predicted score (after training)\",  \"4 hours of studying: \", forward(4))"
   ]
  },
  {
   "cell_type": "code",
   "execution_count": null,
   "metadata": {
    "executionInfo": {
     "elapsed": 937,
     "status": "ok",
     "timestamp": 1616322213612,
     "user": {
      "displayName": "GyuSeung Kyeong",
      "photoUrl": "https://lh3.googleusercontent.com/a-/AOh14GjVl8iR-wRy9h8XpzjUIvCxKy_NYqpKS2XMhJItnCY=s64",
      "userId": "04899398769023255489"
     },
     "user_tz": -540
    },
    "id": "g2-Uws9x5nma"
   },
   "outputs": [],
   "source": []
  }
 ],
 "metadata": {
  "colab": {
   "authorship_tag": "ABX9TyMcEY3GtwvjhlkTy0JvNkS7",
   "collapsed_sections": [],
   "name": "lecture9_2_Linear_model_with_gradient_descent.ipynb",
   "provenance": []
  },
  "kernelspec": {
   "display_name": "Python 3",
   "language": "python",
   "name": "python3"
  },
  "language_info": {
   "codemirror_mode": {
    "name": "ipython",
    "version": 3
   },
   "file_extension": ".py",
   "mimetype": "text/x-python",
   "name": "python",
   "nbconvert_exporter": "python",
   "pygments_lexer": "ipython3",
   "version": "3.8.5"
  }
 },
 "nbformat": 4,
 "nbformat_minor": 4
}
