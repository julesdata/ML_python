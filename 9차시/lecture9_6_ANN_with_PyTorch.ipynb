{
 "cells": [
  {
   "cell_type": "markdown",
   "metadata": {},
   "source": [
    "https://docs.google.com/presentation/d/1X0POtQcf0E8ffCSL-f01tw5JBSP4Tsusn4pHr7eLajk/edit?usp=sharing"
   ]
  },
  {
   "cell_type": "code",
   "execution_count": 1,
   "metadata": {
    "executionInfo": {
     "elapsed": 1249,
     "status": "ok",
     "timestamp": 1616435874933,
     "user": {
      "displayName": "GyuSeung Kyeong",
      "photoUrl": "https://lh3.googleusercontent.com/a-/AOh14GjVl8iR-wRy9h8XpzjUIvCxKy_NYqpKS2XMhJItnCY=s64",
      "userId": "04899398769023255489"
     },
     "user_tz": -540
    },
    "id": "1C9XjPti86_9"
   },
   "outputs": [],
   "source": [
    "import torch\n",
    "from torch import tensor\n",
    "from torch import nn\n",
    "from torch import sigmoid\n",
    "import torch.nn.functional as F\n",
    "import torch.optim as optim"
   ]
  },
  {
   "cell_type": "markdown",
   "metadata": {
    "id": "4fVKSwoEFg9W"
   },
   "source": [
    "# Import Data"
   ]
  },
  {
   "cell_type": "code",
   "execution_count": 2,
   "metadata": {
    "executionInfo": {
     "elapsed": 1242,
     "status": "ok",
     "timestamp": 1616435874934,
     "user": {
      "displayName": "GyuSeung Kyeong",
      "photoUrl": "https://lh3.googleusercontent.com/a-/AOh14GjVl8iR-wRy9h8XpzjUIvCxKy_NYqpKS2XMhJItnCY=s64",
      "userId": "04899398769023255489"
     },
     "user_tz": -540
    },
    "id": "OCQ-1v0x88aT"
   },
   "outputs": [],
   "source": [
    "x_data = tensor([[1.0, 1.0], [2.0, 2.0], [3.0, 3.0], [4.0, 4.0]])\n",
    "y_data = tensor([[0.0], [0.0], [1.0], [1.0]])"
   ]
  },
  {
   "cell_type": "markdown",
   "metadata": {
    "id": "R-VybpEc99-3"
   },
   "source": [
    "# Step1: Model Design\n",
    "Design your model using class with Variables"
   ]
  },
  {
   "cell_type": "code",
   "execution_count": 3,
   "metadata": {
    "executionInfo": {
     "elapsed": 1237,
     "status": "ok",
     "timestamp": 1616435874934,
     "user": {
      "displayName": "GyuSeung Kyeong",
      "photoUrl": "https://lh3.googleusercontent.com/a-/AOh14GjVl8iR-wRy9h8XpzjUIvCxKy_NYqpKS2XMhJItnCY=s64",
      "userId": "04899398769023255489"
     },
     "user_tz": -540
    },
    "id": "0QUIwuzf6Iym"
   },
   "outputs": [],
   "source": [
    "class Model(nn.Module):\n",
    "    def __init__(self):\n",
    "        super(Model, self).__init__()\n",
    "        self.l1 = nn.Linear(2, 8)\n",
    "        self.l2 = nn.Linear(8, 4)\n",
    "        self.l3 = nn.Linear(4, 1)\n",
    "\n",
    "        self.sigmoid = nn.Sigmoid()\n",
    "\n",
    "    def forward(self, x):\n",
    "        out1 = self.sigmoid(self.l1(x))\n",
    "        out2 = self.sigmoid(self.l2(out1))\n",
    "        y_pred = self.sigmoid(self.l3(out2))\n",
    "        return y_pred"
   ]
  },
  {
   "cell_type": "code",
   "execution_count": 4,
   "metadata": {
    "executionInfo": {
     "elapsed": 1232,
     "status": "ok",
     "timestamp": 1616435874935,
     "user": {
      "displayName": "GyuSeung Kyeong",
      "photoUrl": "https://lh3.googleusercontent.com/a-/AOh14GjVl8iR-wRy9h8XpzjUIvCxKy_NYqpKS2XMhJItnCY=s64",
      "userId": "04899398769023255489"
     },
     "user_tz": -540
    },
    "id": "1ysaA4XNFpJA"
   },
   "outputs": [],
   "source": [
    "# model object\n",
    "model = Model()"
   ]
  },
  {
   "cell_type": "markdown",
   "metadata": {
    "id": "T4kuGMJ9FoqU"
   },
   "source": [
    "# Step2: Construct loss and optimizer \n",
    "## Loss Function"
   ]
  },
  {
   "cell_type": "code",
   "execution_count": 5,
   "metadata": {
    "executionInfo": {
     "elapsed": 1228,
     "status": "ok",
     "timestamp": 1616435874936,
     "user": {
      "displayName": "GyuSeung Kyeong",
      "photoUrl": "https://lh3.googleusercontent.com/a-/AOh14GjVl8iR-wRy9h8XpzjUIvCxKy_NYqpKS2XMhJItnCY=s64",
      "userId": "04899398769023255489"
     },
     "user_tz": -540
    },
    "id": "TBU8qsal9KOj"
   },
   "outputs": [],
   "source": [
    "# https://pytorch.org/docs/stable/generated/torch.nn.BCELoss.html\n",
    "# loss function: Binary Cross Entropy\n",
    "# criterion: 표준, 척도, 기준\n",
    "criterion = torch.nn.BCELoss(reduction='mean')"
   ]
  },
  {
   "cell_type": "markdown",
   "metadata": {
    "id": "rLwCmsKtQdxk"
   },
   "source": [
    "## Optimizer"
   ]
  },
  {
   "cell_type": "code",
   "execution_count": 6,
   "metadata": {
    "executionInfo": {
     "elapsed": 1223,
     "status": "ok",
     "timestamp": 1616435874936,
     "user": {
      "displayName": "GyuSeung Kyeong",
      "photoUrl": "https://lh3.googleusercontent.com/a-/AOh14GjVl8iR-wRy9h8XpzjUIvCxKy_NYqpKS2XMhJItnCY=s64",
      "userId": "04899398769023255489"
     },
     "user_tz": -540
    },
    "id": "AMdJY-SWQcDD"
   },
   "outputs": [],
   "source": [
    "# https://pytorch.org/docs/stable/_modules/torch/optim/sgd.html\n",
    "# optimizer가 최적화 하기 위한 model의 weight를 불러오기: model.parameters()\n",
    "optimizer = torch.optim.SGD(model.parameters(), lr=0.1)"
   ]
  },
  {
   "cell_type": "code",
   "execution_count": 7,
   "metadata": {
    "colab": {
     "base_uri": "https://localhost:8080/"
    },
    "executionInfo": {
     "elapsed": 1218,
     "status": "ok",
     "timestamp": 1616435874937,
     "user": {
      "displayName": "GyuSeung Kyeong",
      "photoUrl": "https://lh3.googleusercontent.com/a-/AOh14GjVl8iR-wRy9h8XpzjUIvCxKy_NYqpKS2XMhJItnCY=s64",
      "userId": "04899398769023255489"
     },
     "user_tz": -540
    },
    "id": "tLdWWvGTKDaq",
    "outputId": "72570312-aa1f-41fd-998d-ef4060043723"
   },
   "outputs": [
    {
     "data": {
      "text/plain": [
       "[{'params': [Parameter containing:\n",
       "   tensor([[ 0.5607,  0.1043],\n",
       "           [-0.2488,  0.1685],\n",
       "           [ 0.4926, -0.1143],\n",
       "           [-0.1776, -0.6852],\n",
       "           [-0.6467,  0.1777],\n",
       "           [-0.6357, -0.4836],\n",
       "           [ 0.5711, -0.3857],\n",
       "           [-0.7014,  0.1710]], requires_grad=True),\n",
       "   Parameter containing:\n",
       "   tensor([ 0.4226,  0.5252, -0.4828, -0.6886,  0.6029,  0.0511, -0.4826,  0.2328],\n",
       "          requires_grad=True),\n",
       "   Parameter containing:\n",
       "   tensor([[ 0.0752, -0.3432,  0.0415,  0.2159,  0.2153,  0.3030, -0.2429,  0.0909],\n",
       "           [ 0.2999,  0.0992,  0.3121, -0.1255, -0.1520,  0.2752,  0.2651, -0.0637],\n",
       "           [ 0.2646, -0.1300,  0.0889,  0.1785,  0.3507, -0.2267, -0.1716,  0.2120],\n",
       "           [ 0.2424, -0.3236, -0.2297,  0.0082, -0.0793,  0.0473, -0.2193,  0.2142]],\n",
       "          requires_grad=True),\n",
       "   Parameter containing:\n",
       "   tensor([-0.0982, -0.0648, -0.2138,  0.0363], requires_grad=True),\n",
       "   Parameter containing:\n",
       "   tensor([[ 0.1885,  0.0142, -0.0128,  0.3606]], requires_grad=True),\n",
       "   Parameter containing:\n",
       "   tensor([-0.2127], requires_grad=True)],\n",
       "  'lr': 0.1,\n",
       "  'momentum': 0,\n",
       "  'dampening': 0,\n",
       "  'weight_decay': 0,\n",
       "  'nesterov': False}]"
      ]
     },
     "execution_count": 7,
     "metadata": {},
     "output_type": "execute_result"
    }
   ],
   "source": [
    "optimizer.param_groups"
   ]
  },
  {
   "cell_type": "markdown",
   "metadata": {
    "id": "SJKHYPvLGHTO"
   },
   "source": [
    "# Step3: Train Model\n",
    "forward, backward, update"
   ]
  },
  {
   "cell_type": "code",
   "execution_count": 8,
   "metadata": {
    "colab": {
     "base_uri": "https://localhost:8080/"
    },
    "executionInfo": {
     "elapsed": 1957,
     "status": "ok",
     "timestamp": 1616435875682,
     "user": {
      "displayName": "GyuSeung Kyeong",
      "photoUrl": "https://lh3.googleusercontent.com/a-/AOh14GjVl8iR-wRy9h8XpzjUIvCxKy_NYqpKS2XMhJItnCY=s64",
      "userId": "04899398769023255489"
     },
     "user_tz": -540
    },
    "id": "6V54jbgOAwkH",
    "outputId": "16d51431-2376-4806-91f7-784a44e91143"
   },
   "outputs": [
    {
     "name": "stdout",
     "output_type": "stream",
     "text": [
      "Epoch: 0 | Loss: 0.6957485675811768 \n",
      "Epoch: 10 | Loss: 0.6952481269836426 \n",
      "Epoch: 20 | Loss: 0.6948761940002441 \n",
      "Epoch: 30 | Loss: 0.6945563554763794 \n",
      "Epoch: 40 | Loss: 0.694261908531189 \n",
      "Epoch: 50 | Loss: 0.6939830183982849 \n",
      "Epoch: 60 | Loss: 0.6937153935432434 \n",
      "Epoch: 70 | Loss: 0.693456768989563 \n",
      "Epoch: 80 | Loss: 0.6932055950164795 \n",
      "Epoch: 90 | Loss: 0.6929605603218079 \n",
      "Epoch: 100 | Loss: 0.6927204132080078 \n",
      "Epoch: 110 | Loss: 0.6924841403961182 \n",
      "Epoch: 120 | Loss: 0.6922507286071777 \n",
      "Epoch: 130 | Loss: 0.6920188665390015 \n",
      "Epoch: 140 | Loss: 0.6917877793312073 \n",
      "Epoch: 150 | Loss: 0.6915562748908997 \n",
      "Epoch: 160 | Loss: 0.6913236379623413 \n",
      "Epoch: 170 | Loss: 0.6910886168479919 \n",
      "Epoch: 180 | Loss: 0.6908501982688904 \n",
      "Epoch: 190 | Loss: 0.6906076669692993 \n",
      "Epoch: 200 | Loss: 0.6903599500656128 \n",
      "Epoch: 210 | Loss: 0.6901059150695801 \n",
      "Epoch: 220 | Loss: 0.6898446679115295 \n",
      "Epoch: 230 | Loss: 0.6895751357078552 \n",
      "Epoch: 240 | Loss: 0.6892964839935303 \n",
      "Epoch: 250 | Loss: 0.6890071630477905 \n",
      "Epoch: 260 | Loss: 0.6887065768241882 \n",
      "Epoch: 270 | Loss: 0.6883932948112488 \n",
      "Epoch: 280 | Loss: 0.6880660653114319 \n",
      "Epoch: 290 | Loss: 0.6877238750457764 \n",
      "Epoch: 300 | Loss: 0.6873652338981628 \n",
      "Epoch: 310 | Loss: 0.6869888305664062 \n",
      "Epoch: 320 | Loss: 0.6865934133529663 \n",
      "Epoch: 330 | Loss: 0.6861773729324341 \n",
      "Epoch: 340 | Loss: 0.6857389211654663 \n",
      "Epoch: 350 | Loss: 0.6852766275405884 \n",
      "Epoch: 360 | Loss: 0.684788703918457 \n",
      "Epoch: 370 | Loss: 0.6842733025550842 \n",
      "Epoch: 380 | Loss: 0.6837283372879028 \n",
      "Epoch: 390 | Loss: 0.6831519603729248 \n",
      "Epoch: 400 | Loss: 0.6825416088104248 \n",
      "Epoch: 410 | Loss: 0.6818952560424805 \n",
      "Epoch: 420 | Loss: 0.6812101602554321 \n",
      "Epoch: 430 | Loss: 0.6804838180541992 \n",
      "Epoch: 440 | Loss: 0.6797133684158325 \n",
      "Epoch: 450 | Loss: 0.6788957715034485 \n",
      "Epoch: 460 | Loss: 0.6780279278755188 \n",
      "Epoch: 470 | Loss: 0.6771062612533569 \n",
      "Epoch: 480 | Loss: 0.6761273741722107 \n",
      "Epoch: 490 | Loss: 0.6750870943069458 \n",
      "Epoch: 500 | Loss: 0.6739816665649414 \n",
      "Epoch: 510 | Loss: 0.6728063821792603 \n",
      "Epoch: 520 | Loss: 0.6715568900108337 \n",
      "Epoch: 530 | Loss: 0.6702280044555664 \n",
      "Epoch: 540 | Loss: 0.6688145995140076 \n",
      "Epoch: 550 | Loss: 0.6673109531402588 \n",
      "Epoch: 560 | Loss: 0.6657112836837769 \n",
      "Epoch: 570 | Loss: 0.6640092134475708 \n",
      "Epoch: 580 | Loss: 0.6621980667114258 \n",
      "Epoch: 590 | Loss: 0.6602706909179688 \n",
      "Epoch: 600 | Loss: 0.6582194566726685 \n",
      "Epoch: 610 | Loss: 0.6560368537902832 \n",
      "Epoch: 620 | Loss: 0.6537140011787415 \n",
      "Epoch: 630 | Loss: 0.6512424945831299 \n",
      "Epoch: 640 | Loss: 0.6486129760742188 \n",
      "Epoch: 650 | Loss: 0.6458156108856201 \n",
      "Epoch: 660 | Loss: 0.6428405046463013 \n",
      "Epoch: 670 | Loss: 0.6396771669387817 \n",
      "Epoch: 680 | Loss: 0.6363148093223572 \n",
      "Epoch: 690 | Loss: 0.6327420473098755 \n",
      "Epoch: 700 | Loss: 0.6289478540420532 \n",
      "Epoch: 710 | Loss: 0.6249206066131592 \n",
      "Epoch: 720 | Loss: 0.6206489205360413 \n",
      "Epoch: 730 | Loss: 0.6161214709281921 \n",
      "Epoch: 740 | Loss: 0.6113272905349731 \n",
      "Epoch: 750 | Loss: 0.6062556505203247 \n",
      "Epoch: 760 | Loss: 0.6008970141410828 \n",
      "Epoch: 770 | Loss: 0.5952425003051758 \n",
      "Epoch: 780 | Loss: 0.5892841815948486 \n",
      "Epoch: 790 | Loss: 0.5830156803131104 \n",
      "Epoch: 800 | Loss: 0.5764322876930237 \n",
      "Epoch: 810 | Loss: 0.5695309042930603 \n",
      "Epoch: 820 | Loss: 0.5623104572296143 \n",
      "Epoch: 830 | Loss: 0.554772138595581 \n",
      "Epoch: 840 | Loss: 0.5469194054603577 \n",
      "Epoch: 850 | Loss: 0.5387582182884216 \n",
      "Epoch: 860 | Loss: 0.5302969813346863 \n",
      "Epoch: 870 | Loss: 0.5215470194816589 \n",
      "Epoch: 880 | Loss: 0.5125220417976379 \n",
      "Epoch: 890 | Loss: 0.5032389760017395 \n",
      "Epoch: 900 | Loss: 0.4937169551849365 \n",
      "Epoch: 910 | Loss: 0.4839779734611511 \n",
      "Epoch: 920 | Loss: 0.47404611110687256 \n",
      "Epoch: 930 | Loss: 0.4639478325843811 \n",
      "Epoch: 940 | Loss: 0.4537111818790436 \n",
      "Epoch: 950 | Loss: 0.44336551427841187 \n",
      "Epoch: 960 | Loss: 0.4329412877559662 \n",
      "Epoch: 970 | Loss: 0.4224691689014435 \n",
      "Epoch: 980 | Loss: 0.411980003118515 \n",
      "Epoch: 990 | Loss: 0.4015040099620819 \n"
     ]
    }
   ],
   "source": [
    "# Training loop\n",
    "for epoch in range(1000):\n",
    "    # 1) Forward pass: Compute predicted y by passing x to the model\n",
    "    y_pred = model(x_data)\n",
    "\n",
    "    # 2) Compute and print loss\n",
    "    loss = criterion(y_pred, y_data)\n",
    "    if epoch % 10 == 0:\n",
    "        print(f'Epoch: {epoch} | Loss: {loss.item()} ')\n",
    "\n",
    "    # Zero gradients, perform a backward pass, and update the weights.\n",
    "    optimizer.zero_grad()  # initialize all gradients\n",
    "    loss.backward()\n",
    "    optimizer.step()"
   ]
  },
  {
   "cell_type": "code",
   "execution_count": 9,
   "metadata": {
    "colab": {
     "base_uri": "https://localhost:8080/"
    },
    "executionInfo": {
     "elapsed": 1952,
     "status": "ok",
     "timestamp": 1616435875683,
     "user": {
      "displayName": "GyuSeung Kyeong",
      "photoUrl": "https://lh3.googleusercontent.com/a-/AOh14GjVl8iR-wRy9h8XpzjUIvCxKy_NYqpKS2XMhJItnCY=s64",
      "userId": "04899398769023255489"
     },
     "user_tz": -540
    },
    "id": "W98o_Jy5Kmhp",
    "outputId": "5fb687fa-19e7-4721-d95b-352230dc04df"
   },
   "outputs": [
    {
     "name": "stdout",
     "output_type": "stream",
     "text": [
      "l1.weight Parameter containing:\n",
      "tensor([[ 0.5225,  0.0661],\n",
      "        [-0.6033, -0.1861],\n",
      "        [ 0.6640,  0.0571],\n",
      "        [-0.0482, -0.5558],\n",
      "        [-0.8506, -0.0261],\n",
      "        [-0.5122, -0.3601],\n",
      "        [ 0.8098, -0.1470],\n",
      "        [-0.7893,  0.0831]], requires_grad=True)\n",
      "l1.bias Parameter containing:\n",
      "tensor([ 0.1192,  0.9528, -0.7139, -0.4539,  1.3028,  0.1835, -0.6035,  0.5911],\n",
      "       requires_grad=True)\n",
      "l2.weight Parameter containing:\n",
      "tensor([[ 0.0347, -0.1961, -0.0445,  0.2715,  0.3603,  0.3753, -0.3192,  0.1951],\n",
      "        [ 0.4353, -0.5388,  0.6384, -0.4232, -0.8857, -0.1261,  0.4456, -0.6349],\n",
      "        [-0.0147,  0.4618, -0.3609,  0.4569,  1.0343,  0.1521, -0.4735,  0.7374],\n",
      "        [ 0.7651, -1.3230,  0.5703, -0.4893, -1.2840, -0.6355,  0.2640, -0.7285]],\n",
      "       requires_grad=True)\n",
      "l2.bias Parameter containing:\n",
      "tensor([-0.0672, -0.3256, -0.1276, -0.0994], requires_grad=True)\n",
      "l3.weight Parameter containing:\n",
      "tensor([[-0.5404,  1.4052, -1.5717,  2.2539]], requires_grad=True)\n",
      "l3.bias Parameter containing:\n",
      "tensor([-0.7864], requires_grad=True)\n"
     ]
    }
   ],
   "source": [
    "for name, param in model.named_parameters():\n",
    "    print(name, param)"
   ]
  },
  {
   "cell_type": "markdown",
   "metadata": {
    "id": "Jaz3Y03UKfpv"
   },
   "source": [
    "# Predict Value"
   ]
  },
  {
   "cell_type": "code",
   "execution_count": 10,
   "metadata": {
    "colab": {
     "base_uri": "https://localhost:8080/"
    },
    "executionInfo": {
     "elapsed": 1946,
     "status": "ok",
     "timestamp": 1616435875683,
     "user": {
      "displayName": "GyuSeung Kyeong",
      "photoUrl": "https://lh3.googleusercontent.com/a-/AOh14GjVl8iR-wRy9h8XpzjUIvCxKy_NYqpKS2XMhJItnCY=s64",
      "userId": "04899398769023255489"
     },
     "user_tz": -540
    },
    "id": "g2-Uws9x5nma",
    "outputId": "d1ec7a87-5550-49c5-caf2-63666b1d69cb"
   },
   "outputs": [
    {
     "name": "stdout",
     "output_type": "stream",
     "text": [
      "\n",
      "Let's predict the hours need to score above 50%\n",
      "==================================================\n",
      "Prediction after 1 hour of training: 0.2213 | Above 50%: False\n",
      "Prediction after 7 hours of training: 0.8085 | Above 50%: True\n"
     ]
    }
   ],
   "source": [
    "# After training\n",
    "print(f'\\nLet\\'s predict the hours need to score above 50%\\n{\"=\" * 50}')\n",
    "hour_var = model(tensor([[1.0, 1.0]]))\n",
    "print(f'Prediction after 1 hour of training: {hour_var.item():.4f} | Above 50%: {hour_var.item() > 0.5}')\n",
    "hour_var = model(tensor([[7.0, 7.0]]))\n",
    "print(f'Prediction after 7 hours of training: {hour_var.item():.4f} | Above 50%: { hour_var.item() > 0.5}')"
   ]
  },
  {
   "cell_type": "code",
   "execution_count": null,
   "metadata": {
    "executionInfo": {
     "elapsed": 1944,
     "status": "ok",
     "timestamp": 1616435875683,
     "user": {
      "displayName": "GyuSeung Kyeong",
      "photoUrl": "https://lh3.googleusercontent.com/a-/AOh14GjVl8iR-wRy9h8XpzjUIvCxKy_NYqpKS2XMhJItnCY=s64",
      "userId": "04899398769023255489"
     },
     "user_tz": -540
    },
    "id": "WK_mecnqKiGf"
   },
   "outputs": [],
   "source": []
  }
 ],
 "metadata": {
  "colab": {
   "authorship_tag": "ABX9TyMH+2950zu1LoHGovMDlHjd",
   "collapsed_sections": [],
   "name": "lecture9_6_ANN_with_PyTorch.ipynb",
   "provenance": [
    {
     "file_id": "1R1XMlf0XT6tcYH99IOOk49HmdwVd7IQ0",
     "timestamp": 1616333631559
    }
   ]
  },
  "kernelspec": {
   "display_name": "Python 3",
   "language": "python",
   "name": "python3"
  },
  "language_info": {
   "codemirror_mode": {
    "name": "ipython",
    "version": 3
   },
   "file_extension": ".py",
   "mimetype": "text/x-python",
   "name": "python",
   "nbconvert_exporter": "python",
   "pygments_lexer": "ipython3",
   "version": "3.8.5"
  }
 },
 "nbformat": 4,
 "nbformat_minor": 4
}
