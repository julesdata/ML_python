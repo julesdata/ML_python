{
 "cells": [
  {
   "cell_type": "markdown",
   "id": "regulation-assembly",
   "metadata": {},
   "source": [
    "# Classification Quiz"
   ]
  },
  {
   "cell_type": "markdown",
   "id": "dimensional-orlando",
   "metadata": {},
   "source": [
    "```\n",
    "reference. 에서 creditcard.csv 데이터셋을 다운받아 신용 카드 부정 사용 사건을 예측하는 모형을 만들어 보세요.  \n",
    "f1-score값이 가장 높아지도록 모형을 설계하세요.\n",
    "```\n",
    "\n",
    "The datasets contains transactions made by credit cards in September 2013 by european cardholders.  \n",
    "This dataset presents transactions that occurred in two days, where we have 492 frauds out of 284,807 transactions. The dataset is highly unbalanced, the positive class (frauds) account for 0.172% of all transactions.  \n",
    "\n",
    "It contains only numerical input variables which are the result of a PCA transformation. Unfortunately, due to confidentiality issues, we cannot provide the original features and more background information about the data. Features V1, V2, … V28 are the principal components obtained with PCA, the only features which have not been transformed with PCA are 'Time' and 'Amount'. Feature 'Time' contains the seconds elapsed between each transaction and the first transaction in the dataset. The feature 'Amount' is the transaction Amount, this feature can be used for example-dependant cost-senstive learning. Feature 'Class' is the response variable and it takes value 1 in case of fraud and 0 otherwise.\n",
    "\n",
    "\n",
    "Dependent Variable\n",
    "- 1 in case of fraud and 0 otherwise.\n",
    "\n",
    "Independent variables\n",
    "- V1, V2, ... V28 are the principal components obtained with PCA, the only features which have not been transformed with PCA are 'Time' and 'Amount'. Feature 'Time' contains the seconds elapsed between each transaction and the first transaction in the dataset. The feature 'Amount' is the transaction Amount, this feature can be used for example-dependant cost-senstive learning. \n",
    "\n",
    "\n",
    "reference. https://www.kaggle.com/mlg-ulb/creditcardfraud/home"
   ]
  },
  {
   "cell_type": "markdown",
   "id": "sought-matrix",
   "metadata": {},
   "source": [
    "### Step1: Load Dataset"
   ]
  },
  {
   "cell_type": "markdown",
   "id": "moderate-neighbor",
   "metadata": {},
   "source": [
    "### Step2: Visualize Dataset"
   ]
  },
  {
   "cell_type": "markdown",
   "id": "fewer-institution",
   "metadata": {},
   "source": [
    "### Step3: Define Train set and Test Set"
   ]
  },
  {
   "cell_type": "markdown",
   "id": "ongoing-accused",
   "metadata": {},
   "source": [
    "### Step4: Train Model"
   ]
  },
  {
   "cell_type": "markdown",
   "id": "offensive-representative",
   "metadata": {},
   "source": [
    "### Step5: Predict value"
   ]
  },
  {
   "cell_type": "markdown",
   "id": "skilled-liechtenstein",
   "metadata": {},
   "source": [
    "### Step6: Model Evaluation"
   ]
  }
 ],
 "metadata": {
  "kernelspec": {
   "display_name": "Python 3",
   "language": "python",
   "name": "python3"
  },
  "language_info": {
   "codemirror_mode": {
    "name": "ipython",
    "version": 3
   },
   "file_extension": ".py",
   "mimetype": "text/x-python",
   "name": "python",
   "nbconvert_exporter": "python",
   "pygments_lexer": "ipython3",
   "version": "3.8.5"
  }
 },
 "nbformat": 4,
 "nbformat_minor": 5
}
