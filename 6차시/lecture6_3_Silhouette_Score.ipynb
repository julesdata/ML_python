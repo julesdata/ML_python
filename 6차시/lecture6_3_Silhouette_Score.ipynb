{
 "cells": [
  {
   "cell_type": "markdown",
   "metadata": {
    "id": "i_paGd_yLbgH"
   },
   "source": [
    "# Clustering Evaluation with Silhouette Score"
   ]
  },
  {
   "cell_type": "markdown",
   "metadata": {},
   "source": [
    "https://docs.google.com/presentation/d/1wQLpAU38DZo_Nqir6Zp1EeYgyVePsCX4m1p2wTMRAic/edit?usp=sharing"
   ]
  },
  {
   "cell_type": "markdown",
   "metadata": {},
   "source": [
    "### Silhouette Score\n",
    "\n",
    "$$ s(i) =  \\dfrac{b(i)-a(i)}{max(a(i),  b(i))} $$\n",
    "\n",
    "\n",
    "a(𝑖): 𝑖번째 개체와 같은 군집에 속한 요소들 간 거리들의 평균  \n",
    "b(𝑖): 𝑖번째 개체와 다른 군집에 속한 요소들 간 거리들의 평균을 군집마다 각각 구한 뒤, 이 가운데 가장 작은 값(최인접 군집내 요소들 간의 평균 거리)  \n",
    "s(𝑖): -1 ~ 1 사이의 값을 가짐. 숫자가 클 수록 군집 분류가 잘 되었다고 볼 수 있음. 일반적으로 0.5 보다 클 경우 군집 형성이 적합하다고 평가함.  \n",
    "\n",
    "#### cases\n",
    "1. a(𝑖) = 0 -> s(𝑖) = 1\n",
    "  - 가장 이상적인 케이스.\n",
    "  - 한 군집 내 모든 개체가 동일한 경우\n",
    "1. b(𝑖) = 0 -> s(𝑖) = -1\n",
    "  - 가장 최악의 케이스.\n",
    "  - 서로 다른 군집이 하나도 구분되지 않는 경우.\n",
    "1. a(𝑖) = b(𝑖) -> s(𝑖) = 0\n",
    "  - 지금 클러스터나 이웃 클러스터나 어디 있든 상관 없다.\n",
    "1. a(𝑖) <<< b(𝑖) -> s(𝑖) ≒ 1\n",
    "  - 인접 군집이 멀리 떨어져 있다.\n"
   ]
  },
  {
   "cell_type": "code",
   "execution_count": 1,
   "metadata": {
    "executionInfo": {
     "elapsed": 887,
     "status": "ok",
     "timestamp": 1605518628132,
     "user": {
      "displayName": "GyuSeung Kyeong",
      "photoUrl": "https://lh3.googleusercontent.com/a-/AOh14GjVl8iR-wRy9h8XpzjUIvCxKy_NYqpKS2XMhJItnCY=s64",
      "userId": "04899398769023255489"
     },
     "user_tz": -540
    },
    "id": "j0zGZsxI9IWZ"
   },
   "outputs": [],
   "source": [
    "import numpy as np\n",
    "import matplotlib.pyplot as plt\n",
    "import pandas as pd\n",
    "import seaborn as sns"
   ]
  },
  {
   "cell_type": "markdown",
   "metadata": {},
   "source": [
    "## K-means Example\n",
    "Customer information"
   ]
  },
  {
   "cell_type": "markdown",
   "metadata": {
    "id": "5LciKOr8Lo5O"
   },
   "source": [
    "### Step1: Load Dataset"
   ]
  },
  {
   "cell_type": "code",
   "execution_count": 2,
   "metadata": {
    "colab": {
     "base_uri": "https://localhost:8080/",
     "height": 204
    },
    "executionInfo": {
     "elapsed": 1011,
     "status": "ok",
     "timestamp": 1605518630571,
     "user": {
      "displayName": "GyuSeung Kyeong",
      "photoUrl": "https://lh3.googleusercontent.com/a-/AOh14GjVl8iR-wRy9h8XpzjUIvCxKy_NYqpKS2XMhJItnCY=s64",
      "userId": "04899398769023255489"
     },
     "user_tz": -540
    },
    "id": "yj2Okze39M4E",
    "outputId": "c066fa60-9244-44c6-e0d2-cdb5cf68658c"
   },
   "outputs": [
    {
     "data": {
      "text/plain": [
       "(200, 5)"
      ]
     },
     "execution_count": 2,
     "metadata": {},
     "output_type": "execute_result"
    }
   ],
   "source": [
    "# 'Customers.csv' 파일 읽기 pd.read_csv()\n",
    "# df shape 확인 \n",
    "\n",
    "df = pd.read_csv(\"Customers.csv\")\n",
    "df.shape"
   ]
  },
  {
   "cell_type": "code",
   "execution_count": 3,
   "metadata": {},
   "outputs": [
    {
     "data": {
      "text/html": [
       "<div>\n",
       "<style scoped>\n",
       "    .dataframe tbody tr th:only-of-type {\n",
       "        vertical-align: middle;\n",
       "    }\n",
       "\n",
       "    .dataframe tbody tr th {\n",
       "        vertical-align: top;\n",
       "    }\n",
       "\n",
       "    .dataframe thead th {\n",
       "        text-align: right;\n",
       "    }\n",
       "</style>\n",
       "<table border=\"1\" class=\"dataframe\">\n",
       "  <thead>\n",
       "    <tr style=\"text-align: right;\">\n",
       "      <th></th>\n",
       "      <th>CustomerID</th>\n",
       "      <th>Gender</th>\n",
       "      <th>Age</th>\n",
       "      <th>AnnualIncome</th>\n",
       "      <th>SpendingScore</th>\n",
       "    </tr>\n",
       "  </thead>\n",
       "  <tbody>\n",
       "    <tr>\n",
       "      <th>0</th>\n",
       "      <td>1</td>\n",
       "      <td>Male</td>\n",
       "      <td>19</td>\n",
       "      <td>15</td>\n",
       "      <td>39</td>\n",
       "    </tr>\n",
       "    <tr>\n",
       "      <th>1</th>\n",
       "      <td>2</td>\n",
       "      <td>Male</td>\n",
       "      <td>21</td>\n",
       "      <td>15</td>\n",
       "      <td>81</td>\n",
       "    </tr>\n",
       "    <tr>\n",
       "      <th>2</th>\n",
       "      <td>3</td>\n",
       "      <td>Female</td>\n",
       "      <td>20</td>\n",
       "      <td>16</td>\n",
       "      <td>6</td>\n",
       "    </tr>\n",
       "    <tr>\n",
       "      <th>3</th>\n",
       "      <td>4</td>\n",
       "      <td>Female</td>\n",
       "      <td>23</td>\n",
       "      <td>16</td>\n",
       "      <td>77</td>\n",
       "    </tr>\n",
       "    <tr>\n",
       "      <th>4</th>\n",
       "      <td>5</td>\n",
       "      <td>Female</td>\n",
       "      <td>31</td>\n",
       "      <td>17</td>\n",
       "      <td>40</td>\n",
       "    </tr>\n",
       "  </tbody>\n",
       "</table>\n",
       "</div>"
      ],
      "text/plain": [
       "   CustomerID  Gender  Age  AnnualIncome  SpendingScore\n",
       "0           1    Male   19            15             39\n",
       "1           2    Male   21            15             81\n",
       "2           3  Female   20            16              6\n",
       "3           4  Female   23            16             77\n",
       "4           5  Female   31            17             40"
      ]
     },
     "execution_count": 3,
     "metadata": {},
     "output_type": "execute_result"
    }
   ],
   "source": [
    "# df head 행 보기\n",
    "\n",
    "df.head()"
   ]
  },
  {
   "cell_type": "code",
   "execution_count": 4,
   "metadata": {},
   "outputs": [
    {
     "data": {
      "text/plain": [
       "CustomerID       200\n",
       "Gender             2\n",
       "Age               51\n",
       "AnnualIncome      64\n",
       "SpendingScore     84\n",
       "dtype: int64"
      ]
     },
     "execution_count": 4,
     "metadata": {},
     "output_type": "execute_result"
    }
   ],
   "source": [
    "# column별로 unique 종류 수 확인\n",
    "\n",
    "df.nunique()"
   ]
  },
  {
   "cell_type": "code",
   "execution_count": 5,
   "metadata": {},
   "outputs": [],
   "source": [
    "# set index as 'CustomerID'\n",
    "\n",
    "df.set_index('CustomerID', inplace=True)"
   ]
  },
  {
   "cell_type": "code",
   "execution_count": 6,
   "metadata": {
    "colab": {
     "base_uri": "https://localhost:8080/",
     "height": 297
    },
    "executionInfo": {
     "elapsed": 868,
     "status": "ok",
     "timestamp": 1605518657665,
     "user": {
      "displayName": "GyuSeung Kyeong",
      "photoUrl": "https://lh3.googleusercontent.com/a-/AOh14GjVl8iR-wRy9h8XpzjUIvCxKy_NYqpKS2XMhJItnCY=s64",
      "userId": "04899398769023255489"
     },
     "user_tz": -540
    },
    "id": "l7HbjNK_IeQ9",
    "outputId": "f7472918-1d6a-4373-d0b0-9d7157763e0c"
   },
   "outputs": [
    {
     "data": {
      "text/html": [
       "<div>\n",
       "<style scoped>\n",
       "    .dataframe tbody tr th:only-of-type {\n",
       "        vertical-align: middle;\n",
       "    }\n",
       "\n",
       "    .dataframe tbody tr th {\n",
       "        vertical-align: top;\n",
       "    }\n",
       "\n",
       "    .dataframe thead th {\n",
       "        text-align: right;\n",
       "    }\n",
       "</style>\n",
       "<table border=\"1\" class=\"dataframe\">\n",
       "  <thead>\n",
       "    <tr style=\"text-align: right;\">\n",
       "      <th></th>\n",
       "      <th>Age</th>\n",
       "      <th>AnnualIncome</th>\n",
       "      <th>SpendingScore</th>\n",
       "    </tr>\n",
       "  </thead>\n",
       "  <tbody>\n",
       "    <tr>\n",
       "      <th>count</th>\n",
       "      <td>200.000000</td>\n",
       "      <td>200.000000</td>\n",
       "      <td>200.000000</td>\n",
       "    </tr>\n",
       "    <tr>\n",
       "      <th>mean</th>\n",
       "      <td>38.850000</td>\n",
       "      <td>60.560000</td>\n",
       "      <td>50.200000</td>\n",
       "    </tr>\n",
       "    <tr>\n",
       "      <th>std</th>\n",
       "      <td>13.969007</td>\n",
       "      <td>26.264721</td>\n",
       "      <td>25.823522</td>\n",
       "    </tr>\n",
       "    <tr>\n",
       "      <th>min</th>\n",
       "      <td>18.000000</td>\n",
       "      <td>15.000000</td>\n",
       "      <td>1.000000</td>\n",
       "    </tr>\n",
       "    <tr>\n",
       "      <th>25%</th>\n",
       "      <td>28.750000</td>\n",
       "      <td>41.500000</td>\n",
       "      <td>34.750000</td>\n",
       "    </tr>\n",
       "    <tr>\n",
       "      <th>50%</th>\n",
       "      <td>36.000000</td>\n",
       "      <td>61.500000</td>\n",
       "      <td>50.000000</td>\n",
       "    </tr>\n",
       "    <tr>\n",
       "      <th>75%</th>\n",
       "      <td>49.000000</td>\n",
       "      <td>78.000000</td>\n",
       "      <td>73.000000</td>\n",
       "    </tr>\n",
       "    <tr>\n",
       "      <th>max</th>\n",
       "      <td>70.000000</td>\n",
       "      <td>137.000000</td>\n",
       "      <td>99.000000</td>\n",
       "    </tr>\n",
       "  </tbody>\n",
       "</table>\n",
       "</div>"
      ],
      "text/plain": [
       "              Age  AnnualIncome  SpendingScore\n",
       "count  200.000000    200.000000     200.000000\n",
       "mean    38.850000     60.560000      50.200000\n",
       "std     13.969007     26.264721      25.823522\n",
       "min     18.000000     15.000000       1.000000\n",
       "25%     28.750000     41.500000      34.750000\n",
       "50%     36.000000     61.500000      50.000000\n",
       "75%     49.000000     78.000000      73.000000\n",
       "max     70.000000    137.000000      99.000000"
      ]
     },
     "execution_count": 6,
     "metadata": {},
     "output_type": "execute_result"
    }
   ],
   "source": [
    "# df descriptive statistics\n",
    "\n",
    "df.describe()"
   ]
  },
  {
   "cell_type": "markdown",
   "metadata": {},
   "source": [
    "### Step2: Visualize Dataset"
   ]
  },
  {
   "cell_type": "code",
   "execution_count": 7,
   "metadata": {},
   "outputs": [
    {
     "data": {
      "text/plain": [
       "<seaborn.axisgrid.JointGrid at 0x7fb648018850>"
      ]
     },
     "execution_count": 7,
     "metadata": {},
     "output_type": "execute_result"
    },
    {
     "data": {
      "image/png": "[encoded data removed]",
      "text/plain": [
       "<Figure size 432x432 with 3 Axes>"
      ]
     },
     "metadata": {
      "needs_background": "light"
     },
     "output_type": "display_data"
    }
   ],
   "source": [
    "# sns.jointplot 활용한 시각화. x='AnnualIncome', y='SpendingScore'\n",
    "\n",
    "sns.jointplot(x='AnnualIncome', y='SpendingScore', data = df, color = 'gray')"
   ]
  },
  {
   "cell_type": "code",
   "execution_count": 8,
   "metadata": {},
   "outputs": [
    {
     "data": {
      "text/plain": [
       "<seaborn.axisgrid.PairGrid at 0x7fb647eceac0>"
      ]
     },
     "execution_count": 8,
     "metadata": {},
     "output_type": "execute_result"
    },
    {
     "data": {
      "image/png": "[encoded data removed]",
      "text/plain": [
       "<Figure size 540x540 with 12 Axes>"
      ]
     },
     "metadata": {
      "needs_background": "light"
     },
     "output_type": "display_data"
    }
   ],
   "source": [
    "# sns.pairplot()\n",
    "\n",
    "sns.pairplot(df)"
   ]
  },
  {
   "cell_type": "markdown",
   "metadata": {},
   "source": [
    "### Step3: Find Optimal # of Clusters"
   ]
  },
  {
   "cell_type": "code",
   "execution_count": 9,
   "metadata": {},
   "outputs": [],
   "source": [
    "# X에 -1번째 column까지 할당 np.array\n",
    "\n",
    "X = df.iloc[:, 2:].values"
   ]
  },
  {
   "cell_type": "code",
   "execution_count": 10,
   "metadata": {
    "colab": {
     "base_uri": "https://localhost:8080/",
     "height": 295
    },
    "executionInfo": {
     "elapsed": 3575,
     "status": "ok",
     "timestamp": 1605518825011,
     "user": {
      "displayName": "GyuSeung Kyeong",
      "photoUrl": "https://lh3.googleusercontent.com/a-/AOh14GjVl8iR-wRy9h8XpzjUIvCxKy_NYqpKS2XMhJItnCY=s64",
      "userId": "04899398769023255489"
     },
     "user_tz": -540
    },
    "id": "LUN6plNy-gyo",
    "outputId": "0d2ba12e-11cd-4c95-f284-78ebfdb9e6f6"
   },
   "outputs": [
    {
     "data": {
      "image/png": "[encoded data removed]",
      "text/plain": [
       "<Figure size 432x288 with 1 Axes>"
      ]
     },
     "metadata": {
      "needs_background": "light"
     },
     "output_type": "display_data"
    }
   ],
   "source": [
    "# find cluster number in KMeans \n",
    "\n",
    "from sklearn.cluster import KMeans\n",
    "wcss = []\n",
    "for i in range(1, 11):\n",
    "    kmeans = KMeans(n_clusters=i, init='k-means++', random_state=0)\n",
    "    kmeans.fit(X)\n",
    "    wcss.append(kmeans.inertia_)\n",
    "\n",
    "plt.plot(range(1,11), wcss)\n",
    "plt.title('The Elbow Method')\n",
    "plt.xlabel('# of clusters')\n",
    "plt.ylabel('wcss')\n",
    "plt.show()"
   ]
  },
  {
   "cell_type": "markdown",
   "metadata": {
    "id": "VgT0mANLL4Nz"
   },
   "source": [
    "### Step4: Train Model"
   ]
  },
  {
   "cell_type": "code",
   "execution_count": 11,
   "metadata": {
    "executionInfo": {
     "elapsed": 948,
     "status": "ok",
     "timestamp": 1605518856153,
     "user": {
      "displayName": "GyuSeung Kyeong",
      "photoUrl": "https://lh3.googleusercontent.com/a-/AOh14GjVl8iR-wRy9h8XpzjUIvCxKy_NYqpKS2XMhJItnCY=s64",
      "userId": "04899398769023255489"
     },
     "user_tz": -540
    },
    "id": "CrCWWnPNBt1t"
   },
   "outputs": [],
   "source": [
    "# kmeans에 KMeans() 모형 학습. with n_cluster=5, init='k-means++'\n",
    "# y_kmeans에 predict 값 저장\n",
    "\n",
    "kmeans = KMeans(n_clusters=5, init='k-means++', random_state=0)\n",
    "y_kmeans = kmeans.fit_predict(X)\n",
    "\n",
    "# kmeans = KMeans(n_clusters=5, init='k-means++', random_state=0)\n",
    "# kmeans.fit(X)\n",
    "# y_kmeans = kmeans.predict(X)"
   ]
  },
  {
   "cell_type": "code",
   "execution_count": 12,
   "metadata": {
    "colab": {
     "base_uri": "https://localhost:8080/"
    },
    "executionInfo": {
     "elapsed": 966,
     "status": "ok",
     "timestamp": 1605518862361,
     "user": {
      "displayName": "GyuSeung Kyeong",
      "photoUrl": "https://lh3.googleusercontent.com/a-/AOh14GjVl8iR-wRy9h8XpzjUIvCxKy_NYqpKS2XMhJItnCY=s64",
      "userId": "04899398769023255489"
     },
     "user_tz": -540
    },
    "id": "q-WI8JQ9CCnQ",
    "outputId": "df4afcfd-1324-4118-8bbe-d32389cf2037"
   },
   "outputs": [
    {
     "data": {
      "text/plain": [
       "array([3, 1, 3, 1, 3, 1, 3, 1, 3, 1, 3, 1, 3, 1, 3, 1, 3, 1, 3, 1, 3, 1,\n",
       "       3, 1, 3, 1, 3, 1, 3, 1, 3, 1, 3, 1, 3, 1, 3, 1, 3, 1, 3, 1, 3, 0,\n",
       "       3, 1, 0, 0, 0, 0, 0, 0, 0, 0, 0, 0, 0, 0, 0, 0, 0, 0, 0, 0, 0, 0,\n",
       "       0, 0, 0, 0, 0, 0, 0, 0, 0, 0, 0, 0, 0, 0, 0, 0, 0, 0, 0, 0, 0, 0,\n",
       "       0, 0, 0, 0, 0, 0, 0, 0, 0, 0, 0, 0, 0, 0, 0, 0, 0, 0, 0, 0, 0, 0,\n",
       "       0, 0, 0, 0, 0, 0, 0, 0, 0, 0, 0, 0, 0, 2, 4, 2, 0, 2, 4, 2, 4, 2,\n",
       "       0, 2, 4, 2, 4, 2, 4, 2, 4, 2, 0, 2, 4, 2, 4, 2, 4, 2, 4, 2, 4, 2,\n",
       "       4, 2, 4, 2, 4, 2, 4, 2, 4, 2, 4, 2, 4, 2, 4, 2, 4, 2, 4, 2, 4, 2,\n",
       "       4, 2, 4, 2, 4, 2, 4, 2, 4, 2, 4, 2, 4, 2, 4, 2, 4, 2, 4, 2, 4, 2,\n",
       "       4, 2], dtype=int32)"
      ]
     },
     "execution_count": 12,
     "metadata": {},
     "output_type": "execute_result"
    }
   ],
   "source": [
    "# y_kmeans 확인\n",
    "\n",
    "y_kmeans"
   ]
  },
  {
   "cell_type": "code",
   "execution_count": 13,
   "metadata": {
    "colab": {
     "base_uri": "https://localhost:8080/"
    },
    "executionInfo": {
     "elapsed": 642,
     "status": "ok",
     "timestamp": 1605518866086,
     "user": {
      "displayName": "GyuSeung Kyeong",
      "photoUrl": "https://lh3.googleusercontent.com/a-/AOh14GjVl8iR-wRy9h8XpzjUIvCxKy_NYqpKS2XMhJItnCY=s64",
      "userId": "04899398769023255489"
     },
     "user_tz": -540
    },
    "id": "jJfYg8pxDYSV",
    "outputId": "34701cfb-c03e-4c35-db28-c3166a5777bd"
   },
   "outputs": [
    {
     "data": {
      "text/plain": [
       "array([[55.2962963 , 49.51851852],\n",
       "       [25.72727273, 79.36363636],\n",
       "       [86.53846154, 82.12820513],\n",
       "       [26.30434783, 20.91304348],\n",
       "       [88.2       , 17.11428571]])"
      ]
     },
     "execution_count": 13,
     "metadata": {},
     "output_type": "execute_result"
    }
   ],
   "source": [
    "# cluster_centers 확인\n",
    "\n",
    "kmeans.cluster_centers_"
   ]
  },
  {
   "cell_type": "markdown",
   "metadata": {
    "id": "e7YrS1JAMFnm"
   },
   "source": [
    "### Step5: Analyze Result"
   ]
  },
  {
   "cell_type": "code",
   "execution_count": 14,
   "metadata": {
    "colab": {
     "base_uri": "https://localhost:8080/",
     "height": 295
    },
    "executionInfo": {
     "elapsed": 1198,
     "status": "ok",
     "timestamp": 1605518874829,
     "user": {
      "displayName": "GyuSeung Kyeong",
      "photoUrl": "https://lh3.googleusercontent.com/a-/AOh14GjVl8iR-wRy9h8XpzjUIvCxKy_NYqpKS2XMhJItnCY=s64",
      "userId": "04899398769023255489"
     },
     "user_tz": -540
    },
    "id": "PQhPu5vECxd7",
    "outputId": "bcd8a01b-479e-48d5-ebe1-36a233536ece"
   },
   "outputs": [
    {
     "data": {
      "image/png": "[encoded data removed]",
      "text/plain": [
       "<Figure size 432x288 with 1 Axes>"
      ]
     },
     "metadata": {
      "needs_background": "light"
     },
     "output_type": "display_data"
    }
   ],
   "source": [
    "plt.scatter(X[y_kmeans==0, 0], X[y_kmeans==0, 1], s=100, c='r', label='Cluster0')\n",
    "plt.scatter(X[y_kmeans==1, 0], X[y_kmeans==1, 1], s=100, c='g', label='Cluster1')\n",
    "plt.scatter(X[y_kmeans==2, 0], X[y_kmeans==2, 1], s=100, c='b', label='Cluster2')\n",
    "plt.scatter(X[y_kmeans==3, 0], X[y_kmeans==3, 1], s=100, c='c', label='Cluster3')\n",
    "plt.scatter(X[y_kmeans==4, 0], X[y_kmeans==4, 1], s=100, c='y', label='Cluster4')\n",
    "plt.scatter(kmeans.cluster_centers_[:,0], kmeans.cluster_centers_[:,1], s=100, c='black', label='Centroids')\n",
    "\n",
    "plt.title('cluster of customer')\n",
    "plt.xlabel('annual income')\n",
    "plt.ylabel('spending score')\n",
    "plt.legend()\n",
    "plt.show()\n"
   ]
  },
  {
   "cell_type": "markdown",
   "metadata": {},
   "source": [
    "## Step6: Cluster Evaluation"
   ]
  },
  {
   "cell_type": "code",
   "execution_count": 15,
   "metadata": {},
   "outputs": [],
   "source": [
    "# df_result 생산. 기존 df에 cluster 정보(y_kmeans) 포함.\n",
    "\n",
    "df_result = df.iloc[:, 2:].copy()\n",
    "df_result['cluster'] = y_kmeans"
   ]
  },
  {
   "cell_type": "code",
   "execution_count": 16,
   "metadata": {},
   "outputs": [
    {
     "name": "stdout",
     "output_type": "stream",
     "text": [
      "average silhouette_score: 0.553931997444648\n"
     ]
    },
    {
     "data": {
      "text/html": [
       "<div>\n",
       "<style scoped>\n",
       "    .dataframe tbody tr th:only-of-type {\n",
       "        vertical-align: middle;\n",
       "    }\n",
       "\n",
       "    .dataframe tbody tr th {\n",
       "        vertical-align: top;\n",
       "    }\n",
       "\n",
       "    .dataframe thead th {\n",
       "        text-align: right;\n",
       "    }\n",
       "</style>\n",
       "<table border=\"1\" class=\"dataframe\">\n",
       "  <thead>\n",
       "    <tr style=\"text-align: right;\">\n",
       "      <th></th>\n",
       "      <th>AnnualIncome</th>\n",
       "      <th>SpendingScore</th>\n",
       "      <th>cluster</th>\n",
       "      <th>Silhouette_Coefficients</th>\n",
       "    </tr>\n",
       "    <tr>\n",
       "      <th>CustomerID</th>\n",
       "      <th></th>\n",
       "      <th></th>\n",
       "      <th></th>\n",
       "      <th></th>\n",
       "    </tr>\n",
       "  </thead>\n",
       "  <tbody>\n",
       "    <tr>\n",
       "      <th>1</th>\n",
       "      <td>15</td>\n",
       "      <td>39</td>\n",
       "      <td>3</td>\n",
       "      <td>0.417005</td>\n",
       "    </tr>\n",
       "    <tr>\n",
       "      <th>2</th>\n",
       "      <td>15</td>\n",
       "      <td>81</td>\n",
       "      <td>1</td>\n",
       "      <td>0.696378</td>\n",
       "    </tr>\n",
       "    <tr>\n",
       "      <th>3</th>\n",
       "      <td>16</td>\n",
       "      <td>6</td>\n",
       "      <td>3</td>\n",
       "      <td>0.639953</td>\n",
       "    </tr>\n",
       "    <tr>\n",
       "      <th>4</th>\n",
       "      <td>16</td>\n",
       "      <td>77</td>\n",
       "      <td>1</td>\n",
       "      <td>0.696483</td>\n",
       "    </tr>\n",
       "    <tr>\n",
       "      <th>5</th>\n",
       "      <td>17</td>\n",
       "      <td>40</td>\n",
       "      <td>3</td>\n",
       "      <td>0.392300</td>\n",
       "    </tr>\n",
       "  </tbody>\n",
       "</table>\n",
       "</div>"
      ],
      "text/plain": [
       "            AnnualIncome  SpendingScore  cluster  Silhouette_Coefficients\n",
       "CustomerID                                                               \n",
       "1                     15             39        3                 0.417005\n",
       "2                     15             81        1                 0.696378\n",
       "3                     16              6        3                 0.639953\n",
       "4                     16             77        1                 0.696483\n",
       "5                     17             40        3                 0.392300"
      ]
     },
     "execution_count": 16,
     "metadata": {},
     "output_type": "execute_result"
    }
   ],
   "source": [
    "# from sklearn.metrics import silhouette_samples, silhouette_score\n",
    "# silhouette_samples 이용해 각각의 data point의 Silhouette_Coefficients 를 구하기.\n",
    "# silhouette_score 이용해 각각의 평균 score 구하기.\n",
    "\n",
    "from sklearn.metrics import silhouette_samples, silhouette_score\n",
    "\n",
    "df_result['Silhouette_Coefficients'] = silhouette_samples(X, y_kmeans)\n",
    "print(\"average silhouette_score:\", silhouette_score(X, y_kmeans))\n",
    "df_result.head()"
   ]
  },
  {
   "cell_type": "markdown",
   "metadata": {},
   "source": [
    "---"
   ]
  },
  {
   "cell_type": "markdown",
   "metadata": {},
   "source": [
    "## Hierarchical Clustering Example\n",
    "Customer information"
   ]
  },
  {
   "cell_type": "markdown",
   "metadata": {
    "id": "5LciKOr8Lo5O"
   },
   "source": [
    "### Step1: Load Dataset"
   ]
  },
  {
   "cell_type": "code",
   "execution_count": 17,
   "metadata": {
    "colab": {
     "base_uri": "https://localhost:8080/",
     "height": 204
    },
    "executionInfo": {
     "elapsed": 1011,
     "status": "ok",
     "timestamp": 1605518630571,
     "user": {
      "displayName": "GyuSeung Kyeong",
      "photoUrl": "https://lh3.googleusercontent.com/a-/AOh14GjVl8iR-wRy9h8XpzjUIvCxKy_NYqpKS2XMhJItnCY=s64",
      "userId": "04899398769023255489"
     },
     "user_tz": -540
    },
    "id": "yj2Okze39M4E",
    "outputId": "c066fa60-9244-44c6-e0d2-cdb5cf68658c"
   },
   "outputs": [
    {
     "data": {
      "text/plain": [
       "(200, 5)"
      ]
     },
     "execution_count": 17,
     "metadata": {},
     "output_type": "execute_result"
    }
   ],
   "source": [
    "# 'Customers.csv' 파일 읽기 pd.read_csv()\n",
    "# df shape 확인 \n",
    "\n",
    "df = pd.read_csv(\"Customers.csv\")\n",
    "df.shape"
   ]
  },
  {
   "cell_type": "code",
   "execution_count": 18,
   "metadata": {},
   "outputs": [
    {
     "data": {
      "text/html": [
       "<div>\n",
       "<style scoped>\n",
       "    .dataframe tbody tr th:only-of-type {\n",
       "        vertical-align: middle;\n",
       "    }\n",
       "\n",
       "    .dataframe tbody tr th {\n",
       "        vertical-align: top;\n",
       "    }\n",
       "\n",
       "    .dataframe thead th {\n",
       "        text-align: right;\n",
       "    }\n",
       "</style>\n",
       "<table border=\"1\" class=\"dataframe\">\n",
       "  <thead>\n",
       "    <tr style=\"text-align: right;\">\n",
       "      <th></th>\n",
       "      <th>CustomerID</th>\n",
       "      <th>Gender</th>\n",
       "      <th>Age</th>\n",
       "      <th>AnnualIncome</th>\n",
       "      <th>SpendingScore</th>\n",
       "    </tr>\n",
       "  </thead>\n",
       "  <tbody>\n",
       "    <tr>\n",
       "      <th>0</th>\n",
       "      <td>1</td>\n",
       "      <td>Male</td>\n",
       "      <td>19</td>\n",
       "      <td>15</td>\n",
       "      <td>39</td>\n",
       "    </tr>\n",
       "    <tr>\n",
       "      <th>1</th>\n",
       "      <td>2</td>\n",
       "      <td>Male</td>\n",
       "      <td>21</td>\n",
       "      <td>15</td>\n",
       "      <td>81</td>\n",
       "    </tr>\n",
       "    <tr>\n",
       "      <th>2</th>\n",
       "      <td>3</td>\n",
       "      <td>Female</td>\n",
       "      <td>20</td>\n",
       "      <td>16</td>\n",
       "      <td>6</td>\n",
       "    </tr>\n",
       "    <tr>\n",
       "      <th>3</th>\n",
       "      <td>4</td>\n",
       "      <td>Female</td>\n",
       "      <td>23</td>\n",
       "      <td>16</td>\n",
       "      <td>77</td>\n",
       "    </tr>\n",
       "    <tr>\n",
       "      <th>4</th>\n",
       "      <td>5</td>\n",
       "      <td>Female</td>\n",
       "      <td>31</td>\n",
       "      <td>17</td>\n",
       "      <td>40</td>\n",
       "    </tr>\n",
       "  </tbody>\n",
       "</table>\n",
       "</div>"
      ],
      "text/plain": [
       "   CustomerID  Gender  Age  AnnualIncome  SpendingScore\n",
       "0           1    Male   19            15             39\n",
       "1           2    Male   21            15             81\n",
       "2           3  Female   20            16              6\n",
       "3           4  Female   23            16             77\n",
       "4           5  Female   31            17             40"
      ]
     },
     "execution_count": 18,
     "metadata": {},
     "output_type": "execute_result"
    }
   ],
   "source": [
    "# df head 행 보기\n",
    "\n",
    "df.head()"
   ]
  },
  {
   "cell_type": "code",
   "execution_count": 19,
   "metadata": {},
   "outputs": [
    {
     "data": {
      "text/plain": [
       "CustomerID       200\n",
       "Gender             2\n",
       "Age               51\n",
       "AnnualIncome      64\n",
       "SpendingScore     84\n",
       "dtype: int64"
      ]
     },
     "execution_count": 19,
     "metadata": {},
     "output_type": "execute_result"
    }
   ],
   "source": [
    "# column별로 unique 종류 수 확인\n",
    "\n",
    "df.nunique()"
   ]
  },
  {
   "cell_type": "code",
   "execution_count": 20,
   "metadata": {},
   "outputs": [],
   "source": [
    "# set index as 'CustomerID'\n",
    "\n",
    "df.set_index('CustomerID', inplace=True)"
   ]
  },
  {
   "cell_type": "code",
   "execution_count": 21,
   "metadata": {
    "colab": {
     "base_uri": "https://localhost:8080/",
     "height": 297
    },
    "executionInfo": {
     "elapsed": 868,
     "status": "ok",
     "timestamp": 1605518657665,
     "user": {
      "displayName": "GyuSeung Kyeong",
      "photoUrl": "https://lh3.googleusercontent.com/a-/AOh14GjVl8iR-wRy9h8XpzjUIvCxKy_NYqpKS2XMhJItnCY=s64",
      "userId": "04899398769023255489"
     },
     "user_tz": -540
    },
    "id": "l7HbjNK_IeQ9",
    "outputId": "f7472918-1d6a-4373-d0b0-9d7157763e0c"
   },
   "outputs": [
    {
     "data": {
      "text/html": [
       "<div>\n",
       "<style scoped>\n",
       "    .dataframe tbody tr th:only-of-type {\n",
       "        vertical-align: middle;\n",
       "    }\n",
       "\n",
       "    .dataframe tbody tr th {\n",
       "        vertical-align: top;\n",
       "    }\n",
       "\n",
       "    .dataframe thead th {\n",
       "        text-align: right;\n",
       "    }\n",
       "</style>\n",
       "<table border=\"1\" class=\"dataframe\">\n",
       "  <thead>\n",
       "    <tr style=\"text-align: right;\">\n",
       "      <th></th>\n",
       "      <th>Age</th>\n",
       "      <th>AnnualIncome</th>\n",
       "      <th>SpendingScore</th>\n",
       "    </tr>\n",
       "  </thead>\n",
       "  <tbody>\n",
       "    <tr>\n",
       "      <th>count</th>\n",
       "      <td>200.000000</td>\n",
       "      <td>200.000000</td>\n",
       "      <td>200.000000</td>\n",
       "    </tr>\n",
       "    <tr>\n",
       "      <th>mean</th>\n",
       "      <td>38.850000</td>\n",
       "      <td>60.560000</td>\n",
       "      <td>50.200000</td>\n",
       "    </tr>\n",
       "    <tr>\n",
       "      <th>std</th>\n",
       "      <td>13.969007</td>\n",
       "      <td>26.264721</td>\n",
       "      <td>25.823522</td>\n",
       "    </tr>\n",
       "    <tr>\n",
       "      <th>min</th>\n",
       "      <td>18.000000</td>\n",
       "      <td>15.000000</td>\n",
       "      <td>1.000000</td>\n",
       "    </tr>\n",
       "    <tr>\n",
       "      <th>25%</th>\n",
       "      <td>28.750000</td>\n",
       "      <td>41.500000</td>\n",
       "      <td>34.750000</td>\n",
       "    </tr>\n",
       "    <tr>\n",
       "      <th>50%</th>\n",
       "      <td>36.000000</td>\n",
       "      <td>61.500000</td>\n",
       "      <td>50.000000</td>\n",
       "    </tr>\n",
       "    <tr>\n",
       "      <th>75%</th>\n",
       "      <td>49.000000</td>\n",
       "      <td>78.000000</td>\n",
       "      <td>73.000000</td>\n",
       "    </tr>\n",
       "    <tr>\n",
       "      <th>max</th>\n",
       "      <td>70.000000</td>\n",
       "      <td>137.000000</td>\n",
       "      <td>99.000000</td>\n",
       "    </tr>\n",
       "  </tbody>\n",
       "</table>\n",
       "</div>"
      ],
      "text/plain": [
       "              Age  AnnualIncome  SpendingScore\n",
       "count  200.000000    200.000000     200.000000\n",
       "mean    38.850000     60.560000      50.200000\n",
       "std     13.969007     26.264721      25.823522\n",
       "min     18.000000     15.000000       1.000000\n",
       "25%     28.750000     41.500000      34.750000\n",
       "50%     36.000000     61.500000      50.000000\n",
       "75%     49.000000     78.000000      73.000000\n",
       "max     70.000000    137.000000      99.000000"
      ]
     },
     "execution_count": 21,
     "metadata": {},
     "output_type": "execute_result"
    }
   ],
   "source": [
    "# df descriptive statistics\n",
    "\n",
    "df.describe()"
   ]
  },
  {
   "cell_type": "markdown",
   "metadata": {},
   "source": [
    "### Step2: Visualize Dataset"
   ]
  },
  {
   "cell_type": "code",
   "execution_count": 22,
   "metadata": {},
   "outputs": [
    {
     "data": {
      "text/plain": [
       "<seaborn.axisgrid.JointGrid at 0x7fb648860a60>"
      ]
     },
     "execution_count": 22,
     "metadata": {},
     "output_type": "execute_result"
    },
    {
     "data": {
      "image/png": "[encoded data removed]",
      "text/plain": [
       "<Figure size 432x432 with 3 Axes>"
      ]
     },
     "metadata": {
      "needs_background": "light"
     },
     "output_type": "display_data"
    }
   ],
   "source": [
    "# sns.jointplot 활용한 시각화. x='AnnualIncome', y='SpendingScore'\n",
    "\n",
    "sns.jointplot(x='AnnualIncome', y='SpendingScore', data = df, color = 'gray')"
   ]
  },
  {
   "cell_type": "code",
   "execution_count": 23,
   "metadata": {},
   "outputs": [
    {
     "data": {
      "text/plain": [
       "<seaborn.axisgrid.PairGrid at 0x7fb64aba6730>"
      ]
     },
     "execution_count": 23,
     "metadata": {},
     "output_type": "execute_result"
    },
    {
     "data": {
      "image/png": "[encoded data removed]",
      "text/plain": [
       "<Figure size 540x540 with 12 Axes>"
      ]
     },
     "metadata": {
      "needs_background": "light"
     },
     "output_type": "display_data"
    }
   ],
   "source": [
    "# sns.pairplot()\n",
    "\n",
    "sns.pairplot(df)"
   ]
  },
  {
   "cell_type": "markdown",
   "metadata": {},
   "source": [
    "### Step3: Find Optimal # of Clusters"
   ]
  },
  {
   "cell_type": "code",
   "execution_count": 24,
   "metadata": {},
   "outputs": [],
   "source": [
    "# X에 -1번째 column까지 할당 np.array\n",
    "\n",
    "X = df.iloc[:, 2:].values"
   ]
  },
  {
   "cell_type": "code",
   "execution_count": 25,
   "metadata": {},
   "outputs": [
    {
     "data": {
      "image/png": "[encoded data removed]",
      "text/plain": [
       "<Figure size 432x288 with 1 Axes>"
      ]
     },
     "metadata": {
      "needs_background": "light"
     },
     "output_type": "display_data"
    }
   ],
   "source": [
    "# from scipy.cluster import hierarchy\n",
    "# dendrogram으로 원하는 cluster 수 찾기\n",
    "\n",
    "from scipy.cluster import hierarchy\n",
    "hc = hierarchy.linkage(X, method = 'ward')  # ward: minimum variance\n",
    "dendrogram = hierarchy.dendrogram(hc)\n",
    "plt.title('Dendrogram')\n",
    "plt.xlabel('Customers')\n",
    "plt.ylabel('Euclidean distances')\n",
    "plt.show()"
   ]
  },
  {
   "cell_type": "code",
   "execution_count": 26,
   "metadata": {},
   "outputs": [
    {
     "data": {
      "text/plain": [
       "array([[384.        , 386.        , 113.88601652,  32.        ],\n",
       "       [391.        , 392.        , 245.65460099, 108.        ],\n",
       "       [387.        , 395.        , 262.5626341 , 129.        ],\n",
       "       [393.        , 394.        , 394.8596576 ,  71.        ],\n",
       "       [396.        , 397.        , 405.66004104, 200.        ]])"
      ]
     },
     "execution_count": 26,
     "metadata": {},
     "output_type": "execute_result"
    }
   ],
   "source": [
    "# check linkage\n",
    "# The hierarchical clustering encoded as a linkage matrix. \n",
    "# linkage matrix: \n",
    "# column 1. index of a class\n",
    "# column 2. index of other class\n",
    "# column 3. distance between class\n",
    "# column 4. sum of the numbers in a class and other class.()\n",
    "\n",
    "hc[-5:]"
   ]
  },
  {
   "cell_type": "code",
   "execution_count": 27,
   "metadata": {},
   "outputs": [
    {
     "data": {
      "text/plain": [
       "3"
      ]
     },
     "execution_count": 27,
     "metadata": {},
     "output_type": "execute_result"
    }
   ],
   "source": [
    "# dendrogram으로 원하는 cluster 수 찾기\n",
    "# dendrogram 에서 distance가 가장 크게 변화하는 cluster 수 찾기\n",
    "\n",
    "first_distance = hc[:, 2][0]\n",
    "subtraction_distance = []\n",
    "for distance in hc[:, 2]:\n",
    "    subtraction_distance.append(distance - first_distance)\n",
    "    first_distance = distance\n",
    "    \n",
    "n_clusters = X.shape[0] - subtraction_distance.index(max(subtraction_distance))\n",
    "n_clusters"
   ]
  },
  {
   "cell_type": "markdown",
   "metadata": {
    "id": "VgT0mANLL4Nz"
   },
   "source": [
    "### Step4: Train Model"
   ]
  },
  {
   "cell_type": "code",
   "execution_count": 28,
   "metadata": {
    "executionInfo": {
     "elapsed": 948,
     "status": "ok",
     "timestamp": 1605518856153,
     "user": {
      "displayName": "GyuSeung Kyeong",
      "photoUrl": "https://lh3.googleusercontent.com/a-/AOh14GjVl8iR-wRy9h8XpzjUIvCxKy_NYqpKS2XMhJItnCY=s64",
      "userId": "04899398769023255489"
     },
     "user_tz": -540
    },
    "id": "CrCWWnPNBt1t"
   },
   "outputs": [],
   "source": [
    "# from sklearn.cluster import AgglomerativeClustering\n",
    "# model: AgglomerativeClustering(), \n",
    "# param: n_clusters = n_clusters, affinity = 'euclidean', linkage = 'ward')\n",
    "# y_hc에 predict 값 저장\n",
    "\n",
    "from sklearn.cluster import AgglomerativeClustering\n",
    "\n",
    "model = AgglomerativeClustering(n_clusters = n_clusters, affinity = 'euclidean', linkage = 'ward')\n",
    "model.fit(X)\n",
    "y_hc = model.labels_"
   ]
  },
  {
   "cell_type": "markdown",
   "metadata": {
    "id": "e7YrS1JAMFnm"
   },
   "source": [
    "### Step5: Analyze Result"
   ]
  },
  {
   "cell_type": "code",
   "execution_count": 29,
   "metadata": {
    "colab": {
     "base_uri": "https://localhost:8080/",
     "height": 295
    },
    "executionInfo": {
     "elapsed": 1198,
     "status": "ok",
     "timestamp": 1605518874829,
     "user": {
      "displayName": "GyuSeung Kyeong",
      "photoUrl": "https://lh3.googleusercontent.com/a-/AOh14GjVl8iR-wRy9h8XpzjUIvCxKy_NYqpKS2XMhJItnCY=s64",
      "userId": "04899398769023255489"
     },
     "user_tz": -540
    },
    "id": "PQhPu5vECxd7",
    "outputId": "bcd8a01b-479e-48d5-ebe1-36a233536ece"
   },
   "outputs": [
    {
     "data": {
      "image/png": "[encoded data removed]",
      "text/plain": [
       "<Figure size 432x288 with 1 Axes>"
      ]
     },
     "metadata": {
      "needs_background": "light"
     },
     "output_type": "display_data"
    }
   ],
   "source": [
    "plt.scatter(X[y_hc==0, 0], X[y_hc==0, 1], s=100, c='r', label='Cluster0')\n",
    "plt.scatter(X[y_hc==1, 0], X[y_hc==1, 1], s=100, c='g', label='Cluster1')\n",
    "plt.scatter(X[y_hc==2, 0], X[y_hc==2, 1], s=100, c='b', label='Cluster2')\n",
    "plt.scatter(X[y_hc==3, 0], X[y_hc==3, 1], s=100, c='c', label='Cluster3')\n",
    "plt.scatter(X[y_hc==4, 0], X[y_hc==4, 1], s=100, c='y', label='Cluster4')\n",
    "\n",
    "plt.title('cluster of customer')\n",
    "plt.xlabel('annual income')\n",
    "plt.ylabel('spending score')\n",
    "plt.legend()\n",
    "plt.show()\n"
   ]
  },
  {
   "cell_type": "markdown",
   "metadata": {},
   "source": [
    "## Step6: Clsuter Evaluation"
   ]
  },
  {
   "cell_type": "code",
   "execution_count": 30,
   "metadata": {},
   "outputs": [],
   "source": [
    "# df_result 생산. 기존 df에 cluster 정보(y_hc) 포함.\n",
    "\n",
    "df_result = df.iloc[:, 2:].copy()\n",
    "df_result['cluster'] = y_hc"
   ]
  },
  {
   "cell_type": "code",
   "execution_count": 31,
   "metadata": {},
   "outputs": [
    {
     "name": "stdout",
     "output_type": "stream",
     "text": [
      "average silhouette_score: 0.4618340266628975\n"
     ]
    },
    {
     "data": {
      "text/html": [
       "<div>\n",
       "<style scoped>\n",
       "    .dataframe tbody tr th:only-of-type {\n",
       "        vertical-align: middle;\n",
       "    }\n",
       "\n",
       "    .dataframe tbody tr th {\n",
       "        vertical-align: top;\n",
       "    }\n",
       "\n",
       "    .dataframe thead th {\n",
       "        text-align: right;\n",
       "    }\n",
       "</style>\n",
       "<table border=\"1\" class=\"dataframe\">\n",
       "  <thead>\n",
       "    <tr style=\"text-align: right;\">\n",
       "      <th></th>\n",
       "      <th>AnnualIncome</th>\n",
       "      <th>SpendingScore</th>\n",
       "      <th>cluster</th>\n",
       "      <th>Silhouette_Coefficients</th>\n",
       "    </tr>\n",
       "    <tr>\n",
       "      <th>CustomerID</th>\n",
       "      <th></th>\n",
       "      <th></th>\n",
       "      <th></th>\n",
       "      <th></th>\n",
       "    </tr>\n",
       "  </thead>\n",
       "  <tbody>\n",
       "    <tr>\n",
       "      <th>1</th>\n",
       "      <td>15</td>\n",
       "      <td>39</td>\n",
       "      <td>0</td>\n",
       "      <td>0.496119</td>\n",
       "    </tr>\n",
       "    <tr>\n",
       "      <th>2</th>\n",
       "      <td>15</td>\n",
       "      <td>81</td>\n",
       "      <td>0</td>\n",
       "      <td>0.333668</td>\n",
       "    </tr>\n",
       "    <tr>\n",
       "      <th>3</th>\n",
       "      <td>16</td>\n",
       "      <td>6</td>\n",
       "      <td>0</td>\n",
       "      <td>0.254481</td>\n",
       "    </tr>\n",
       "    <tr>\n",
       "      <th>4</th>\n",
       "      <td>16</td>\n",
       "      <td>77</td>\n",
       "      <td>0</td>\n",
       "      <td>0.367768</td>\n",
       "    </tr>\n",
       "    <tr>\n",
       "      <th>5</th>\n",
       "      <td>17</td>\n",
       "      <td>40</td>\n",
       "      <td>0</td>\n",
       "      <td>0.508020</td>\n",
       "    </tr>\n",
       "  </tbody>\n",
       "</table>\n",
       "</div>"
      ],
      "text/plain": [
       "            AnnualIncome  SpendingScore  cluster  Silhouette_Coefficients\n",
       "CustomerID                                                               \n",
       "1                     15             39        0                 0.496119\n",
       "2                     15             81        0                 0.333668\n",
       "3                     16              6        0                 0.254481\n",
       "4                     16             77        0                 0.367768\n",
       "5                     17             40        0                 0.508020"
      ]
     },
     "execution_count": 31,
     "metadata": {},
     "output_type": "execute_result"
    }
   ],
   "source": [
    "# from sklearn.metrics import silhouette_samples, silhouette_score\n",
    "# silhouette_samples 이용해 각각의 data point의 Silhouette_Coefficients 를 구하기.\n",
    "# silhouette_score 이용해 각각의 평균 score 구하기.\n",
    "\n",
    "from sklearn.metrics import silhouette_samples, silhouette_score\n",
    "\n",
    "df_result['Silhouette_Coefficients'] = silhouette_samples(X, y_hc)\n",
    "print(\"average silhouette_score:\", silhouette_score(X, y_hc))\n",
    "df_result.head()"
   ]
  }
 ],
 "metadata": {
  "colab": {
   "authorship_tag": "ABX9TyO1eHcRfBUZpW/p+BdCEIoT",
   "collapsed_sections": [],
   "name": "Clsutering: K-Means.ipynb",
   "provenance": [],
   "toc_visible": true
  },
  "kernelspec": {
   "display_name": "Python 3",
   "language": "python",
   "name": "python3"
  },
  "language_info": {
   "codemirror_mode": {
    "name": "ipython",
    "version": 3
   },
   "file_extension": ".py",
   "mimetype": "text/x-python",
   "name": "python",
   "nbconvert_exporter": "python",
   "pygments_lexer": "ipython3",
   "version": "3.8.5"
  }
 },
 "nbformat": 4,
 "nbformat_minor": 4
}
