{
 "cells": [
  {
   "cell_type": "markdown",
   "id": "found-norfolk",
   "metadata": {},
   "source": [
    "# Clustering Quiz"
   ]
  },
  {
   "cell_type": "markdown",
   "id": "classical-rwanda",
   "metadata": {},
   "source": [
    "```\n",
    "CC GENERAL.csv 데이터셋을 읽어 신용카드 사용 고객군을 나눠보세요.\n",
    "클러스터를 나눈 뒤 어떤 기준으로 나누었는지 설명해 보세요.\n",
    "```\n",
    "\n",
    "The sample Dataset summarizes the usage behavior of about 9000 active credit card holders during the last 6 months. The file is at a customer level with 18 behavioral variables.  \n",
    "\n",
    "Features\n",
    "\n",
    "- CUSTID : Identification of Credit Card holder (Categorical)\n",
    "- BALANCE : Balance amount left in their account to make purchases\n",
    "- BALANCEFREQUENCY : How frequently the Balance is updated, score between 0 and 1 (1 = frequently updated, 0 = not frequently updated)\n",
    "- PURCHASES : Amount of purchases made from account\n",
    "- ONEOFFPURCHASES : Maximum purchase amount done in one-go\n",
    "- INSTALLMENTSPURCHASES : Amount of purchase done in installment\n",
    "- CASHADVANCE : Cash in advance given by the user\n",
    "- PURCHASESFREQUENCY : How frequently the Purchases are being made, score between 0 and 1 (1 = frequently purchased, 0 = not frequently purchased)\n",
    "- ONEOFFPURCHASESFREQUENCY : How frequently Purchases are happening in one-go (1 = frequently purchased, 0 = not frequently purchased)\n",
    "- PURCHASESINSTALLMENTSFREQUENCY : How frequently purchases in installments are being done (1 = frequently done, 0 = not frequently done)\n",
    "- CASHADVANCEFREQUENCY : How frequently the cash in advance being paid\n",
    "- CASHADVANCETRX : Number of Transactions made with \"Cash in Advanced\"\n",
    "- PURCHASESTRX : Numbe of purchase transactions made\n",
    "- CREDITLIMIT : Limit of Credit Card for user\n",
    "- PAYMENTS : Amount of Payment done by user\n",
    "- MINIMUM_PAYMENTS : Minimum amount of payments made by user\n",
    "- PRCFULLPAYMENT : Percent of full payment paid by user\n",
    "- TENURE : Tenure of credit card service for user\n",
    "\n",
    "reference. https://www.kaggle.com/arjunbhasin2013/ccdata"
   ]
  },
  {
   "cell_type": "markdown",
   "id": "seeing-queensland",
   "metadata": {},
   "source": [
    "### Step1: Load Dataset"
   ]
  },
  {
   "cell_type": "markdown",
   "id": "geographic-armenia",
   "metadata": {},
   "source": [
    "### Step2: Visualize Dataset"
   ]
  },
  {
   "cell_type": "markdown",
   "id": "ideal-oxide",
   "metadata": {},
   "source": [
    "### Step3: Find Optimal # of Clusters"
   ]
  },
  {
   "cell_type": "markdown",
   "id": "executed-export",
   "metadata": {},
   "source": [
    "### Step4: Train Model"
   ]
  },
  {
   "cell_type": "markdown",
   "id": "union-alaska",
   "metadata": {
    "id": "e7YrS1JAMFnm"
   },
   "source": [
    "### Step5: Analyze Result"
   ]
  }
 ],
 "metadata": {
  "kernelspec": {
   "display_name": "Python 3",
   "language": "python",
   "name": "python3"
  },
  "language_info": {
   "codemirror_mode": {
    "name": "ipython",
    "version": 3
   },
   "file_extension": ".py",
   "mimetype": "text/x-python",
   "name": "python",
   "nbconvert_exporter": "python",
   "pygments_lexer": "ipython3",
   "version": "3.8.5"
  }
 },
 "nbformat": 4,
 "nbformat_minor": 5
}
